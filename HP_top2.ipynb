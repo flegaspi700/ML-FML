{
 "cells": [
  {
   "cell_type": "code",
   "execution_count": 1,
   "id": "varying-railway",
   "metadata": {
    "_cell_guid": "b1076dfc-b9ad-4769-8c92-a6c4dae69d19",
    "_uuid": "8f2839f25d086af736a60e9eeb907d3b93b6e0e5",
    "execution": {
     "iopub.execute_input": "2021-05-07T22:50:16.228872Z",
     "iopub.status.busy": "2021-05-07T22:50:16.227856Z",
     "iopub.status.idle": "2021-05-07T22:50:16.237784Z",
     "shell.execute_reply": "2021-05-07T22:50:16.238472Z"
    },
    "papermill": {
     "duration": 0.029327,
     "end_time": "2021-05-07T22:50:16.238838",
     "exception": false,
     "start_time": "2021-05-07T22:50:16.209511",
     "status": "completed"
    },
    "tags": []
   },
   "outputs": [],
   "source": [
    "# This Python 3 environment comes with many helpful analytics libraries installed\n",
    "# It is defined by the kaggle/python Docker image: https://github.com/kaggle/docker-python\n",
    "# For example, here's several helpful packages to load\n",
    "\n",
    "import numpy as np # linear algebra\n",
    "import pandas as pd # data processing, CSV file I/O (e.g. pd.read_csv)\n",
    "\n",
    "# Input data files are available in the read-only \"../input/\" directory\n",
    "# For example, running this (by clicking run or pressing Shift+Enter) will list all files under the input directory\n",
    "\n",
    "import os\n",
    "for dirname, _, filenames in os.walk('/kaggle/input'):\n",
    "    for filename in filenames:\n",
    "        print(os.path.join(dirname, filename))\n",
    "\n",
    "# You can write up to 20GB to the current directory (/kaggle/working/) that gets preserved as output when you create a version using \"Save & Run All\" \n",
    "# You can also write temporary files to /kaggle/temp/, but they won't be saved outside of the current session\n",
    "\n",
    "from warnings import filterwarnings\n",
    "filterwarnings('ignore')"
   ]
  },
  {
   "cell_type": "code",
   "execution_count": 2,
   "id": "powerful-answer",
   "metadata": {
    "execution": {
     "iopub.execute_input": "2021-05-07T22:50:16.271569Z",
     "iopub.status.busy": "2021-05-07T22:50:16.270955Z",
     "iopub.status.idle": "2021-05-07T22:50:17.630912Z",
     "shell.execute_reply": "2021-05-07T22:50:17.631344Z"
    },
    "papermill": {
     "duration": 1.376702,
     "end_time": "2021-05-07T22:50:17.631514",
     "exception": false,
     "start_time": "2021-05-07T22:50:16.254812",
     "status": "completed"
    },
    "tags": []
   },
   "outputs": [],
   "source": [
    "from sklearn.model_selection import train_test_split\n",
    "from sklearn.ensemble import RandomForestRegressor\n",
    "from sklearn.pipeline import Pipeline\n",
    "from sklearn.impute import SimpleImputer\n",
    "from sklearn.compose import ColumnTransformer\n",
    "from sklearn.preprocessing import OneHotEncoder\n",
    "from sklearn.metrics import mean_absolute_error\n",
    "from xgboost import XGBRegressor\n",
    "from sklearn.model_selection import cross_val_score\n",
    "from statistics import mode\n",
    "\n",
    "import matplotlib.pyplot as plt\n",
    "import seaborn as sns\n",
    "from sklearn.feature_selection import mutual_info_regression"
   ]
  },
  {
   "cell_type": "code",
   "execution_count": 3,
   "id": "simple-cooking",
   "metadata": {
    "execution": {
     "iopub.execute_input": "2021-05-07T22:50:17.662188Z",
     "iopub.status.busy": "2021-05-07T22:50:17.661627Z",
     "iopub.status.idle": "2021-05-07T22:50:17.737953Z",
     "shell.execute_reply": "2021-05-07T22:50:17.737471Z"
    },
    "papermill": {
     "duration": 0.092573,
     "end_time": "2021-05-07T22:50:17.738122",
     "exception": false,
     "start_time": "2021-05-07T22:50:17.645549",
     "status": "completed"
    },
    "tags": []
   },
   "outputs": [],
   "source": [
    "# Read the data\n",
    "train_data = pd.read_csv('train.csv', index_col='Id')\n",
    "test_data = pd.read_csv('test.csv', index_col='Id')"
   ]
  },
  {
   "cell_type": "code",
   "execution_count": 4,
   "id": "vocal-studio",
   "metadata": {
    "execution": {
     "iopub.execute_input": "2021-05-07T22:50:17.773057Z",
     "iopub.status.busy": "2021-05-07T22:50:17.772463Z",
     "iopub.status.idle": "2021-05-07T22:50:17.776174Z",
     "shell.execute_reply": "2021-05-07T22:50:17.775647Z"
    },
    "papermill": {
     "duration": 0.023865,
     "end_time": "2021-05-07T22:50:17.776301",
     "exception": false,
     "start_time": "2021-05-07T22:50:17.752436",
     "status": "completed"
    },
    "tags": []
   },
   "outputs": [
    {
     "output_type": "execute_result",
     "data": {
      "text/plain": [
       "'\\n# Set Matplotlib defaults\\nplt.style.use(\"seaborn-whitegrid\")\\nplt.rc(\"figure\", autolayout=True)\\nplt.rc(\\n    \"axes\",\\n    labelweight=\"bold\",\\n    labelsize=\"large\",\\n    titleweight=\"bold\",\\n    titlesize=14,\\n    titlepad=10,\\n)\\n\\n# Utility functions from Tutorial\\ndef make_mi_scores(X, y):\\n    X = X.copy()\\n    for colname in X.select_dtypes([\"object\", \"category\"]):\\n        X[colname], _ = X[colname].factorize()\\n    # All discrete features should now have integer dtypes\\n    discrete_features = [pd.api.types.is_integer_dtype(t) for t in X.dtypes]\\n    mi_scores = mutual_info_regression(X, y, discrete_features=discrete_features, random_state=0)\\n    mi_scores = pd.Series(mi_scores, name=\"MI Scores\", index=X.columns)\\n    mi_scores = mi_scores.sort_values(ascending=False)\\n    return mi_scores\\n\\n\\ndef plot_mi_scores(scores):\\n    scores = scores.sort_values(ascending=True)\\n    width = np.arange(len(scores))\\n    ticks = list(scores.index)\\n    plt.barh(width, scores)\\n    plt.yticks(width, ticks)\\n    plt.title(\"Mutual Information Scores\")\\n\\n'"
      ]
     },
     "metadata": {},
     "execution_count": 4
    }
   ],
   "source": [
    "\"\"\"\n",
    "# Set Matplotlib defaults\n",
    "plt.style.use(\"seaborn-whitegrid\")\n",
    "plt.rc(\"figure\", autolayout=True)\n",
    "plt.rc(\n",
    "    \"axes\",\n",
    "    labelweight=\"bold\",\n",
    "    labelsize=\"large\",\n",
    "    titleweight=\"bold\",\n",
    "    titlesize=14,\n",
    "    titlepad=10,\n",
    ")\n",
    "\n",
    "# Utility functions from Tutorial\n",
    "def make_mi_scores(X, y):\n",
    "    X = X.copy()\n",
    "    for colname in X.select_dtypes([\"object\", \"category\"]):\n",
    "        X[colname], _ = X[colname].factorize()\n",
    "    # All discrete features should now have integer dtypes\n",
    "    discrete_features = [pd.api.types.is_integer_dtype(t) for t in X.dtypes]\n",
    "    mi_scores = mutual_info_regression(X, y, discrete_features=discrete_features, random_state=0)\n",
    "    mi_scores = pd.Series(mi_scores, name=\"MI Scores\", index=X.columns)\n",
    "    mi_scores = mi_scores.sort_values(ascending=False)\n",
    "    return mi_scores\n",
    "\n",
    "\n",
    "def plot_mi_scores(scores):\n",
    "    scores = scores.sort_values(ascending=True)\n",
    "    width = np.arange(len(scores))\n",
    "    ticks = list(scores.index)\n",
    "    plt.barh(width, scores)\n",
    "    plt.yticks(width, ticks)\n",
    "    plt.title(\"Mutual Information Scores\")\n",
    "\n",
    "\"\"\""
   ]
  },
  {
   "cell_type": "code",
   "execution_count": 5,
   "id": "union-depth",
   "metadata": {
    "execution": {
     "iopub.execute_input": "2021-05-07T22:50:17.809883Z",
     "iopub.status.busy": "2021-05-07T22:50:17.809355Z",
     "iopub.status.idle": "2021-05-07T22:50:17.812088Z",
     "shell.execute_reply": "2021-05-07T22:50:17.811669Z"
    },
    "papermill": {
     "duration": 0.020986,
     "end_time": "2021-05-07T22:50:17.812219",
     "exception": false,
     "start_time": "2021-05-07T22:50:17.791233",
     "status": "completed"
    },
    "tags": []
   },
   "outputs": [],
   "source": [
    "# Number of missing values in each column of training data\n",
    "#missing_val_count_by_column = (train_data.isnull().sum())\n",
    "#print(missing_val_count_by_column[missing_val_count_by_column > 0])"
   ]
  },
  {
   "cell_type": "code",
   "execution_count": 6,
   "id": "conservative-child",
   "metadata": {
    "execution": {
     "iopub.execute_input": "2021-05-07T22:50:17.844707Z",
     "iopub.status.busy": "2021-05-07T22:50:17.844181Z",
     "iopub.status.idle": "2021-05-07T22:50:17.845889Z",
     "shell.execute_reply": "2021-05-07T22:50:17.846267Z"
    },
    "papermill": {
     "duration": 0.019451,
     "end_time": "2021-05-07T22:50:17.846427",
     "exception": false,
     "start_time": "2021-05-07T22:50:17.826976",
     "status": "completed"
    },
    "tags": []
   },
   "outputs": [],
   "source": [
    "#missing_val_count_by_column = (test_data.isnull().sum())\n",
    "#print(missing_val_count_by_column[missing_val_count_by_column > 0])"
   ]
  },
  {
   "cell_type": "code",
   "execution_count": 7,
   "id": "cooked-voice",
   "metadata": {
    "execution": {
     "iopub.execute_input": "2021-05-07T22:50:17.878603Z",
     "iopub.status.busy": "2021-05-07T22:50:17.877972Z",
     "iopub.status.idle": "2021-05-07T22:50:17.925880Z",
     "shell.execute_reply": "2021-05-07T22:50:17.925368Z"
    },
    "papermill": {
     "duration": 0.064841,
     "end_time": "2021-05-07T22:50:17.926024",
     "exception": false,
     "start_time": "2021-05-07T22:50:17.861183",
     "status": "completed"
    },
    "tags": []
   },
   "outputs": [],
   "source": [
    "train_data.rename({'1stFlrSF': 'FirstFlrSF', '2ndFlrSF': 'SecFlrSF', '3SsnPorch': 'ThreeSsnPorch'}, axis=1, inplace=True)\n",
    "test_data.rename({'1stFlrSF': 'FirstFlrSF', '2ndFlrSF': 'SecFlrSF', '3SsnPorch': 'ThreeSsnPorch'}, axis=1, inplace=True)\n",
    "\n",
    "#X_train_clean.loc[X_train_clean['MasVnrType'] == \"None\"]\n",
    "\n",
    "drop_columns = ['Alley', 'Utilities']\n",
    "train_data.drop(drop_columns, axis=1, inplace=True)\n",
    "test_data.drop(drop_columns, axis=1, inplace=True)\n",
    "\n",
    "\n",
    "train_data.loc[train_data['MSZoning'] == \"C (all)\", 'MSZoning'] = \"C\"\n",
    "test_data.loc[test_data['MSZoning'] == \"C (all)\", 'MSZoning'] = \"C\"\n",
    "\n",
    "train_data['SaleType'].fillna(value=\"Oth\", inplace=True)\n",
    "test_data['SaleType'].fillna(value=\"Oth\", inplace=True)\n",
    "\n",
    "train_data['Functional'].fillna(value=\"Typ\", inplace=True)\n",
    "test_data['Functional'].fillna(value=\"Typ\", inplace=True)\n",
    "\n",
    "\n",
    "for column in train_data[['MSZoning', 'Electrical', 'KitchenQual']]:\n",
    "    train_data[column].fillna(train_data[column].mode()[0], inplace=True)\n",
    "\n",
    "for column in test_data[['MSZoning', 'Electrical', 'KitchenQual']]:\n",
    "    test_data[column].fillna(test_data[column].mode()[0], inplace=True)\n",
    "\n",
    "train_data['LotFrontage'].fillna(train_data['LotFrontage'].mean(), inplace=True)\n",
    "test_data['LotFrontage'].fillna(test_data['LotFrontage'].mean(), inplace=True)\n",
    "\n",
    "\n",
    "for column in train_data[['MasVnrType', 'MiscFeature']]:\n",
    "    train_data[column].fillna(value=\"None\", inplace=True)\n",
    "for column in test_data[['MasVnrType', 'MiscFeature']]:\n",
    "    test_data[column].fillna(value=\"None\", inplace=True)\n",
    "    \n",
    "for column in train_data[['BsmtQual', 'BsmtCond', 'BsmtExposure', 'BsmtFinType1', \n",
    "                          'BsmtFinType2', 'GarageType', 'GarageFinish', \n",
    "                          'GarageQual', 'GarageCond', 'PoolQC', 'Fence', 'FireplaceQu', \n",
    "                         ]]:\n",
    "    train_data[column].fillna(value=\"NA\", inplace=True)\n",
    "    \n",
    "for column in test_data[['BsmtQual', 'BsmtCond', 'BsmtExposure', 'BsmtFinType1', \n",
    "                          'BsmtFinType2', 'GarageType', 'GarageFinish', \n",
    "                          'GarageQual', 'GarageCond', 'PoolQC', 'Fence', 'FireplaceQu', \n",
    "                         ]]:\n",
    "    test_data[column].fillna(value=\"NA\", inplace=True)\n",
    "    \n",
    "for column in train_data[['MasVnrArea', 'BsmtFinSF1', 'BsmtFinSF2', 'BsmtUnfSF', \n",
    "                          'BsmtFullBath', 'BsmtHalfBath', 'GarageYrBlt', 'GarageCars', \n",
    "                          'GarageArea', 'TotalBsmtSF',\n",
    "                         ]]:\n",
    "    train_data[column].fillna(value=0, inplace=True)\n",
    "    \n",
    "for column in test_data[['MasVnrArea', 'BsmtFinSF1', 'BsmtFinSF2', 'BsmtUnfSF', \n",
    "                          'BsmtFullBath', 'BsmtHalfBath', 'GarageYrBlt', 'GarageCars', \n",
    "                          'GarageArea', 'TotalBsmtSF',\n",
    "                         ]]:\n",
    "    test_data[column].fillna(value=0, inplace=True)"
   ]
  },
  {
   "cell_type": "code",
   "execution_count": 8,
   "id": "little-python",
   "metadata": {
    "execution": {
     "iopub.execute_input": "2021-05-07T22:50:17.959290Z",
     "iopub.status.busy": "2021-05-07T22:50:17.958692Z",
     "iopub.status.idle": "2021-05-07T22:50:17.961733Z",
     "shell.execute_reply": "2021-05-07T22:50:17.961280Z"
    },
    "papermill": {
     "duration": 0.021127,
     "end_time": "2021-05-07T22:50:17.961857",
     "exception": false,
     "start_time": "2021-05-07T22:50:17.940730",
     "status": "completed"
    },
    "tags": []
   },
   "outputs": [],
   "source": [
    "#features = [\"YearBuilt\", \"MoSold\", \"ScreenPorch\"]\n",
    "#sns.relplot(\n",
    "#    x=\"value\", y=\"SalePrice\", col=\"variable\", data=df.melt(id_vars=\"SalePrice\", value_vars=features), facet_kws=dict(sharex=False),\n",
    "#);\n",
    "\n",
    "#sns.catplot(x=\"BldgType\", y=\"SalePrice\", data=df, kind=\"boxen\");\n",
    "\n",
    "# YOUR CODE HERE: \n",
    "#feature = \"GrLivArea\"\n",
    "\n",
    "#sns.lmplot(\n",
    "#    x=feature, y=\"SalePrice\", hue=\"BldgType\", col=\"BldgType\",\n",
    "#    data=df, scatter_kws={\"edgecolor\": 'w'}, col_wrap=3, height=5,\n",
    "#);"
   ]
  },
  {
   "cell_type": "code",
   "execution_count": 9,
   "id": "computational-facility",
   "metadata": {
    "execution": {
     "iopub.execute_input": "2021-05-07T22:50:17.996788Z",
     "iopub.status.busy": "2021-05-07T22:50:17.996206Z",
     "iopub.status.idle": "2021-05-07T22:50:17.998620Z",
     "shell.execute_reply": "2021-05-07T22:50:17.999018Z"
    },
    "papermill": {
     "duration": 0.022536,
     "end_time": "2021-05-07T22:50:17.999197",
     "exception": false,
     "start_time": "2021-05-07T22:50:17.976661",
     "status": "completed"
    },
    "tags": []
   },
   "outputs": [],
   "source": [
    "#X = train_data.copy()\n",
    "#y = X.pop('SalePrice')\n",
    "\n",
    "#mi_scores = make_mi_scores(X, y)"
   ]
  },
  {
   "cell_type": "code",
   "execution_count": 10,
   "id": "incomplete-shelter",
   "metadata": {
    "execution": {
     "iopub.execute_input": "2021-05-07T22:50:18.032946Z",
     "iopub.status.busy": "2021-05-07T22:50:18.032428Z",
     "iopub.status.idle": "2021-05-07T22:50:18.035034Z",
     "shell.execute_reply": "2021-05-07T22:50:18.034589Z"
    },
    "papermill": {
     "duration": 0.020834,
     "end_time": "2021-05-07T22:50:18.035165",
     "exception": false,
     "start_time": "2021-05-07T22:50:18.014331",
     "status": "completed"
    },
    "tags": []
   },
   "outputs": [],
   "source": [
    "#print(mi_scores.head(20))\n",
    "#print(mi_scores.tail(20))  # uncomment to see bottom 20\n",
    "\n",
    "#plt.figure(dpi=100, figsize=(8, 5))\n",
    "#plot_mi_scores(mi_scores.head(20))\n",
    "#plt.figure(dpi=100, figsize=(8, 5))\n",
    "#plot_mi_scores(mi_scores.tail(20))  # uncomment to see bottom 20"
   ]
  },
  {
   "cell_type": "code",
   "execution_count": 11,
   "id": "formal-cleanup",
   "metadata": {
    "execution": {
     "iopub.execute_input": "2021-05-07T22:50:18.068804Z",
     "iopub.status.busy": "2021-05-07T22:50:18.068248Z",
     "iopub.status.idle": "2021-05-07T22:50:18.069920Z",
     "shell.execute_reply": "2021-05-07T22:50:18.070410Z"
    },
    "papermill": {
     "duration": 0.020472,
     "end_time": "2021-05-07T22:50:18.070579",
     "exception": false,
     "start_time": "2021-05-07T22:50:18.050107",
     "status": "completed"
    },
    "tags": []
   },
   "outputs": [],
   "source": [
    "\n",
    "#train_data.loc[train_data['MSZoning'] == \"C\"]\n",
    "#test_data.loc[test_data['SaleType'].isnull()]\n",
    "#test_data['MSZoning'].fillna(test_data['MSZoning'].mode()[0], inplace=True)\n",
    "#train_data.loc[train_data.index == 2251]\n",
    "#test_data.loc[test_data.index == 1848]"
   ]
  },
  {
   "cell_type": "code",
   "execution_count": 12,
   "id": "affecting-humidity",
   "metadata": {
    "execution": {
     "iopub.execute_input": "2021-05-07T22:50:18.103169Z",
     "iopub.status.busy": "2021-05-07T22:50:18.102616Z",
     "iopub.status.idle": "2021-05-07T22:50:18.105345Z",
     "shell.execute_reply": "2021-05-07T22:50:18.105822Z"
    },
    "papermill": {
     "duration": 0.020302,
     "end_time": "2021-05-07T22:50:18.105974",
     "exception": false,
     "start_time": "2021-05-07T22:50:18.085672",
     "status": "completed"
    },
    "tags": []
   },
   "outputs": [],
   "source": [
    "#train_data.info()\n",
    "#test_data.info()\n",
    "#train_missing_val_count_by_column = (train_data.isnull().sum())\n",
    "#test_missing_val_count_by_column = (test_data.isnull().sum())\n",
    "#print(train_missing_val_count_by_column[train_missing_val_count_by_column > 0])\n",
    "#print(test_missing_val_count_by_column[test_missing_val_count_by_column > 0])\n",
    "#print(train_data.shape)\n",
    "#print(test_data.shape)\n",
    "#train_data.describe()\n",
    "#test_data.info()\n",
    "# Number of missing values in each column of training data\n",
    "\n",
    "##missing_val_count_by_column = (train_data.isnull().sum())\n",
    "##print(missing_val_count_by_column[missing_val_count_by_column > 0])"
   ]
  },
  {
   "cell_type": "code",
   "execution_count": 13,
   "id": "hollow-determination",
   "metadata": {
    "execution": {
     "iopub.execute_input": "2021-05-07T22:50:18.138610Z",
     "iopub.status.busy": "2021-05-07T22:50:18.138096Z",
     "iopub.status.idle": "2021-05-07T22:50:18.140798Z",
     "shell.execute_reply": "2021-05-07T22:50:18.141258Z"
    },
    "papermill": {
     "duration": 0.020377,
     "end_time": "2021-05-07T22:50:18.141414",
     "exception": false,
     "start_time": "2021-05-07T22:50:18.121037",
     "status": "completed"
    },
    "tags": []
   },
   "outputs": [],
   "source": [
    "#print(train_data.shape)\n",
    "#print(test_data.shape)\n",
    "#train_data.info()\n",
    "\n",
    "#missing_val_count_by_column = (test_data.isnull().sum())\n",
    "#print(missing_val_count_by_column[missing_val_count_by_column > 0])"
   ]
  },
  {
   "cell_type": "code",
   "execution_count": 14,
   "id": "diverse-round",
   "metadata": {
    "execution": {
     "iopub.execute_input": "2021-05-07T22:50:18.173973Z",
     "iopub.status.busy": "2021-05-07T22:50:18.173472Z",
     "iopub.status.idle": "2021-05-07T22:50:18.210531Z",
     "shell.execute_reply": "2021-05-07T22:50:18.210931Z"
    },
    "papermill": {
     "duration": 0.054663,
     "end_time": "2021-05-07T22:50:18.211125",
     "exception": false,
     "start_time": "2021-05-07T22:50:18.156462",
     "status": "completed"
    },
    "tags": []
   },
   "outputs": [],
   "source": [
    "# Remove rows with missing target, separate target from predictors\n",
    "# Drop rows with missing SalePrice from the Train dataset\n",
    "#train_data.dropna(axis=0, subset=['SalePrice'], inplace=True)\n",
    "\n",
    "#Separate SalesPrice from the Train dataset\n",
    "y = train_data.SalePrice\n",
    "train_data.drop(['SalePrice'], axis=1, inplace=True)\n",
    "\n",
    "# Break off validation set from training data\n",
    "#X_train_full, X_valid_full, y_train, y_valid = train_test_split(X_full, y, \n",
    "#                                                                train_size=0.8, test_size=0.2,\n",
    "#                                                                random_state=1)\n",
    "\n",
    "# \"Cardinality\" means the number of unique values in a column\n",
    "# Select categorical columns with relatively low cardinality (convenient but arbitrary)\n",
    "categorical_cols = [cname for cname in train_data.columns if\n",
    "                   train_data[cname].nunique() < 10 and \n",
    "                   train_data[cname].dtype == \"object\"]\n",
    "\n",
    "# Select numerical columns\n",
    "numerical_cols = [cname for cname in train_data.columns if \n",
    "                train_data[cname].dtype in ['int64', 'float64']]\n",
    "\n",
    "# Keep selected columns only\n",
    "my_cols = categorical_cols + numerical_cols\n",
    "X_train = train_data[my_cols].copy()\n",
    "#X_valid = X_valid_full[my_cols].copy()\n",
    "X_test = test_data[my_cols].copy()\n",
    "#X_train_clean = train_data[my_cols].copy()\n",
    "#X_test_clean = test_data[my_cols].copy()"
   ]
  },
  {
   "cell_type": "code",
   "execution_count": 15,
   "id": "cross-border",
   "metadata": {
    "execution": {
     "iopub.execute_input": "2021-05-07T22:50:18.244049Z",
     "iopub.status.busy": "2021-05-07T22:50:18.243543Z",
     "iopub.status.idle": "2021-05-07T22:50:18.359671Z",
     "shell.execute_reply": "2021-05-07T22:50:18.360253Z"
    },
    "papermill": {
     "duration": 0.134049,
     "end_time": "2021-05-07T22:50:18.360463",
     "exception": false,
     "start_time": "2021-05-07T22:50:18.226414",
     "status": "completed"
    },
    "tags": []
   },
   "outputs": [
    {
     "output_type": "stream",
     "name": "stdout",
     "text": [
      "(1459, 74)\nSeries([], dtype: int64)\n"
     ]
    },
    {
     "output_type": "execute_result",
     "data": {
      "text/plain": [
       "        MSSubClass  LotFrontage       LotArea  OverallQual  OverallCond  \\\n",
       "count  1459.000000  1459.000000   1459.000000  1459.000000  1459.000000   \n",
       "mean     57.378341    68.580357   9819.161069     6.078821     5.553804   \n",
       "std      42.746880    20.561228   4955.517327     1.436812     1.113740   \n",
       "min      20.000000    21.000000   1470.000000     1.000000     1.000000   \n",
       "25%      20.000000    60.000000   7391.000000     5.000000     5.000000   \n",
       "50%      50.000000    68.580357   9399.000000     6.000000     5.000000   \n",
       "75%      70.000000    78.000000  11517.500000     7.000000     6.000000   \n",
       "max     190.000000   200.000000  56600.000000    10.000000     9.000000   \n",
       "\n",
       "         YearBuilt  YearRemodAdd   MasVnrArea   BsmtFinSF1   BsmtFinSF2  ...  \\\n",
       "count  1459.000000   1459.000000  1459.000000  1459.000000  1459.000000  ...   \n",
       "mean   1971.357779   1983.662783    99.673749   438.902673    52.583276  ...   \n",
       "std      30.390071     21.130467   177.001792   455.257119   176.698671  ...   \n",
       "min    1879.000000   1950.000000     0.000000     0.000000     0.000000  ...   \n",
       "25%    1953.000000   1963.000000     0.000000     0.000000     0.000000  ...   \n",
       "50%    1973.000000   1992.000000     0.000000   350.000000     0.000000  ...   \n",
       "75%    2001.000000   2004.000000   162.000000   752.000000     0.000000  ...   \n",
       "max    2010.000000   2010.000000  1290.000000  4010.000000  1526.000000  ...   \n",
       "\n",
       "        GarageArea   WoodDeckSF  OpenPorchSF  EnclosedPorch  ThreeSsnPorch  \\\n",
       "count  1459.000000  1459.000000  1459.000000    1459.000000    1459.000000   \n",
       "mean    472.444825    93.174777    48.313914      24.243317       1.794380   \n",
       "std     217.326902   127.744882    68.883364      67.227765      20.207842   \n",
       "min       0.000000     0.000000     0.000000       0.000000       0.000000   \n",
       "25%     317.500000     0.000000     0.000000       0.000000       0.000000   \n",
       "50%     480.000000     0.000000    28.000000       0.000000       0.000000   \n",
       "75%     576.000000   168.000000    72.000000       0.000000       0.000000   \n",
       "max    1488.000000  1424.000000   742.000000    1012.000000     360.000000   \n",
       "\n",
       "       ScreenPorch     PoolArea       MiscVal       MoSold       YrSold  \n",
       "count  1459.000000  1459.000000   1459.000000  1459.000000  1459.000000  \n",
       "mean     17.064428     1.744345     58.167923     6.104181  2007.769705  \n",
       "std      56.609763    30.491646    630.806978     2.722432     1.301740  \n",
       "min       0.000000     0.000000      0.000000     1.000000  2006.000000  \n",
       "25%       0.000000     0.000000      0.000000     4.000000  2007.000000  \n",
       "50%       0.000000     0.000000      0.000000     6.000000  2008.000000  \n",
       "75%       0.000000     0.000000      0.000000     8.000000  2009.000000  \n",
       "max     576.000000   800.000000  17000.000000    12.000000  2010.000000  \n",
       "\n",
       "[8 rows x 36 columns]"
      ],
      "text/html": "<div>\n<style scoped>\n    .dataframe tbody tr th:only-of-type {\n        vertical-align: middle;\n    }\n\n    .dataframe tbody tr th {\n        vertical-align: top;\n    }\n\n    .dataframe thead th {\n        text-align: right;\n    }\n</style>\n<table border=\"1\" class=\"dataframe\">\n  <thead>\n    <tr style=\"text-align: right;\">\n      <th></th>\n      <th>MSSubClass</th>\n      <th>LotFrontage</th>\n      <th>LotArea</th>\n      <th>OverallQual</th>\n      <th>OverallCond</th>\n      <th>YearBuilt</th>\n      <th>YearRemodAdd</th>\n      <th>MasVnrArea</th>\n      <th>BsmtFinSF1</th>\n      <th>BsmtFinSF2</th>\n      <th>...</th>\n      <th>GarageArea</th>\n      <th>WoodDeckSF</th>\n      <th>OpenPorchSF</th>\n      <th>EnclosedPorch</th>\n      <th>ThreeSsnPorch</th>\n      <th>ScreenPorch</th>\n      <th>PoolArea</th>\n      <th>MiscVal</th>\n      <th>MoSold</th>\n      <th>YrSold</th>\n    </tr>\n  </thead>\n  <tbody>\n    <tr>\n      <th>count</th>\n      <td>1459.000000</td>\n      <td>1459.000000</td>\n      <td>1459.000000</td>\n      <td>1459.000000</td>\n      <td>1459.000000</td>\n      <td>1459.000000</td>\n      <td>1459.000000</td>\n      <td>1459.000000</td>\n      <td>1459.000000</td>\n      <td>1459.000000</td>\n      <td>...</td>\n      <td>1459.000000</td>\n      <td>1459.000000</td>\n      <td>1459.000000</td>\n      <td>1459.000000</td>\n      <td>1459.000000</td>\n      <td>1459.000000</td>\n      <td>1459.000000</td>\n      <td>1459.000000</td>\n      <td>1459.000000</td>\n      <td>1459.000000</td>\n    </tr>\n    <tr>\n      <th>mean</th>\n      <td>57.378341</td>\n      <td>68.580357</td>\n      <td>9819.161069</td>\n      <td>6.078821</td>\n      <td>5.553804</td>\n      <td>1971.357779</td>\n      <td>1983.662783</td>\n      <td>99.673749</td>\n      <td>438.902673</td>\n      <td>52.583276</td>\n      <td>...</td>\n      <td>472.444825</td>\n      <td>93.174777</td>\n      <td>48.313914</td>\n      <td>24.243317</td>\n      <td>1.794380</td>\n      <td>17.064428</td>\n      <td>1.744345</td>\n      <td>58.167923</td>\n      <td>6.104181</td>\n      <td>2007.769705</td>\n    </tr>\n    <tr>\n      <th>std</th>\n      <td>42.746880</td>\n      <td>20.561228</td>\n      <td>4955.517327</td>\n      <td>1.436812</td>\n      <td>1.113740</td>\n      <td>30.390071</td>\n      <td>21.130467</td>\n      <td>177.001792</td>\n      <td>455.257119</td>\n      <td>176.698671</td>\n      <td>...</td>\n      <td>217.326902</td>\n      <td>127.744882</td>\n      <td>68.883364</td>\n      <td>67.227765</td>\n      <td>20.207842</td>\n      <td>56.609763</td>\n      <td>30.491646</td>\n      <td>630.806978</td>\n      <td>2.722432</td>\n      <td>1.301740</td>\n    </tr>\n    <tr>\n      <th>min</th>\n      <td>20.000000</td>\n      <td>21.000000</td>\n      <td>1470.000000</td>\n      <td>1.000000</td>\n      <td>1.000000</td>\n      <td>1879.000000</td>\n      <td>1950.000000</td>\n      <td>0.000000</td>\n      <td>0.000000</td>\n      <td>0.000000</td>\n      <td>...</td>\n      <td>0.000000</td>\n      <td>0.000000</td>\n      <td>0.000000</td>\n      <td>0.000000</td>\n      <td>0.000000</td>\n      <td>0.000000</td>\n      <td>0.000000</td>\n      <td>0.000000</td>\n      <td>1.000000</td>\n      <td>2006.000000</td>\n    </tr>\n    <tr>\n      <th>25%</th>\n      <td>20.000000</td>\n      <td>60.000000</td>\n      <td>7391.000000</td>\n      <td>5.000000</td>\n      <td>5.000000</td>\n      <td>1953.000000</td>\n      <td>1963.000000</td>\n      <td>0.000000</td>\n      <td>0.000000</td>\n      <td>0.000000</td>\n      <td>...</td>\n      <td>317.500000</td>\n      <td>0.000000</td>\n      <td>0.000000</td>\n      <td>0.000000</td>\n      <td>0.000000</td>\n      <td>0.000000</td>\n      <td>0.000000</td>\n      <td>0.000000</td>\n      <td>4.000000</td>\n      <td>2007.000000</td>\n    </tr>\n    <tr>\n      <th>50%</th>\n      <td>50.000000</td>\n      <td>68.580357</td>\n      <td>9399.000000</td>\n      <td>6.000000</td>\n      <td>5.000000</td>\n      <td>1973.000000</td>\n      <td>1992.000000</td>\n      <td>0.000000</td>\n      <td>350.000000</td>\n      <td>0.000000</td>\n      <td>...</td>\n      <td>480.000000</td>\n      <td>0.000000</td>\n      <td>28.000000</td>\n      <td>0.000000</td>\n      <td>0.000000</td>\n      <td>0.000000</td>\n      <td>0.000000</td>\n      <td>0.000000</td>\n      <td>6.000000</td>\n      <td>2008.000000</td>\n    </tr>\n    <tr>\n      <th>75%</th>\n      <td>70.000000</td>\n      <td>78.000000</td>\n      <td>11517.500000</td>\n      <td>7.000000</td>\n      <td>6.000000</td>\n      <td>2001.000000</td>\n      <td>2004.000000</td>\n      <td>162.000000</td>\n      <td>752.000000</td>\n      <td>0.000000</td>\n      <td>...</td>\n      <td>576.000000</td>\n      <td>168.000000</td>\n      <td>72.000000</td>\n      <td>0.000000</td>\n      <td>0.000000</td>\n      <td>0.000000</td>\n      <td>0.000000</td>\n      <td>0.000000</td>\n      <td>8.000000</td>\n      <td>2009.000000</td>\n    </tr>\n    <tr>\n      <th>max</th>\n      <td>190.000000</td>\n      <td>200.000000</td>\n      <td>56600.000000</td>\n      <td>10.000000</td>\n      <td>9.000000</td>\n      <td>2010.000000</td>\n      <td>2010.000000</td>\n      <td>1290.000000</td>\n      <td>4010.000000</td>\n      <td>1526.000000</td>\n      <td>...</td>\n      <td>1488.000000</td>\n      <td>1424.000000</td>\n      <td>742.000000</td>\n      <td>1012.000000</td>\n      <td>360.000000</td>\n      <td>576.000000</td>\n      <td>800.000000</td>\n      <td>17000.000000</td>\n      <td>12.000000</td>\n      <td>2010.000000</td>\n    </tr>\n  </tbody>\n</table>\n<p>8 rows × 36 columns</p>\n</div>"
     },
     "metadata": {},
     "execution_count": 15
    }
   ],
   "source": [
    "print(X_test.shape)\n",
    "\n",
    "# Number of missing values in each column of training data\n",
    "missing_val_count_by_column = (X_test.isnull().sum())\n",
    "print(missing_val_count_by_column[missing_val_count_by_column > 0])\n",
    "\n",
    "X_test.describe()"
   ]
  },
  {
   "cell_type": "code",
   "execution_count": 16,
   "id": "permanent-resident",
   "metadata": {
    "execution": {
     "iopub.execute_input": "2021-05-07T22:50:18.400276Z",
     "iopub.status.busy": "2021-05-07T22:50:18.399733Z",
     "iopub.status.idle": "2021-05-07T22:50:18.405670Z",
     "shell.execute_reply": "2021-05-07T22:50:18.405217Z"
    },
    "papermill": {
     "duration": 0.028825,
     "end_time": "2021-05-07T22:50:18.405797",
     "exception": false,
     "start_time": "2021-05-07T22:50:18.376972",
     "status": "completed"
    },
    "tags": []
   },
   "outputs": [
    {
     "output_type": "stream",
     "name": "stdout",
     "text": [
      "(1460, 74)\nSeries([], dtype: int64)\n"
     ]
    }
   ],
   "source": [
    "# Shape of training data (num_rows, num_columns)\n",
    "print(X_train.shape)\n",
    "\n",
    "# Number of missing values in each column of training data\n",
    "missing_val_count_by_column = (X_train.isnull().sum())\n",
    "print(missing_val_count_by_column[missing_val_count_by_column > 0])"
   ]
  },
  {
   "cell_type": "code",
   "execution_count": 17,
   "id": "expired-furniture",
   "metadata": {
    "execution": {
     "iopub.execute_input": "2021-05-07T22:50:18.441926Z",
     "iopub.status.busy": "2021-05-07T22:50:18.441380Z",
     "iopub.status.idle": "2021-05-07T22:50:18.463037Z",
     "shell.execute_reply": "2021-05-07T22:50:18.463407Z"
    },
    "papermill": {
     "duration": 0.041029,
     "end_time": "2021-05-07T22:50:18.463579",
     "exception": false,
     "start_time": "2021-05-07T22:50:18.422550",
     "status": "completed"
    },
    "tags": []
   },
   "outputs": [
    {
     "output_type": "execute_result",
     "data": {
      "text/plain": [
       "     MSZoning Street LotShape LandContour LotConfig LandSlope Condition1  \\\n",
       "Id                                                                         \n",
       "1461       RH   Pave      Reg         Lvl    Inside       Gtl      Feedr   \n",
       "1462       RL   Pave      IR1         Lvl    Corner       Gtl       Norm   \n",
       "1463       RL   Pave      IR1         Lvl    Inside       Gtl       Norm   \n",
       "1464       RL   Pave      IR1         Lvl    Inside       Gtl       Norm   \n",
       "1465       RL   Pave      IR1         HLS    Inside       Gtl       Norm   \n",
       "1466       RL   Pave      IR1         Lvl    Corner       Gtl       Norm   \n",
       "1467       RL   Pave      IR1         Lvl    Inside       Gtl       Norm   \n",
       "1468       RL   Pave      IR1         Lvl    Inside       Gtl       Norm   \n",
       "1469       RL   Pave      Reg         Lvl    Inside       Gtl       Norm   \n",
       "1470       RL   Pave      Reg         Lvl    Corner       Gtl       Norm   \n",
       "\n",
       "     Condition2 BldgType HouseStyle  ... GarageArea WoodDeckSF OpenPorchSF  \\\n",
       "Id                                   ...                                     \n",
       "1461       Norm     1Fam     1Story  ...      730.0        140           0   \n",
       "1462       Norm     1Fam     1Story  ...      312.0        393          36   \n",
       "1463       Norm     1Fam     2Story  ...      482.0        212          34   \n",
       "1464       Norm     1Fam     2Story  ...      470.0        360          36   \n",
       "1465       Norm   TwnhsE     1Story  ...      506.0          0          82   \n",
       "1466       Norm     1Fam     2Story  ...      440.0        157          84   \n",
       "1467       Norm     1Fam     1Story  ...      420.0        483          21   \n",
       "1468       Norm     1Fam     2Story  ...      393.0          0          75   \n",
       "1469       Norm     1Fam     1Story  ...      506.0        192           0   \n",
       "1470       Norm     1Fam     1Story  ...      525.0        240           0   \n",
       "\n",
       "     EnclosedPorch ThreeSsnPorch ScreenPorch PoolArea MiscVal MoSold YrSold  \n",
       "Id                                                                           \n",
       "1461             0             0         120        0       0      6   2010  \n",
       "1462             0             0           0        0   12500      6   2010  \n",
       "1463             0             0           0        0       0      3   2010  \n",
       "1464             0             0           0        0       0      6   2010  \n",
       "1465             0             0         144        0       0      1   2010  \n",
       "1466             0             0           0        0       0      4   2010  \n",
       "1467             0             0           0        0     500      3   2010  \n",
       "1468             0             0           0        0       0      5   2010  \n",
       "1469             0             0           0        0       0      2   2010  \n",
       "1470             0             0           0        0       0      4   2010  \n",
       "\n",
       "[10 rows x 74 columns]"
      ],
      "text/html": "<div>\n<style scoped>\n    .dataframe tbody tr th:only-of-type {\n        vertical-align: middle;\n    }\n\n    .dataframe tbody tr th {\n        vertical-align: top;\n    }\n\n    .dataframe thead th {\n        text-align: right;\n    }\n</style>\n<table border=\"1\" class=\"dataframe\">\n  <thead>\n    <tr style=\"text-align: right;\">\n      <th></th>\n      <th>MSZoning</th>\n      <th>Street</th>\n      <th>LotShape</th>\n      <th>LandContour</th>\n      <th>LotConfig</th>\n      <th>LandSlope</th>\n      <th>Condition1</th>\n      <th>Condition2</th>\n      <th>BldgType</th>\n      <th>HouseStyle</th>\n      <th>...</th>\n      <th>GarageArea</th>\n      <th>WoodDeckSF</th>\n      <th>OpenPorchSF</th>\n      <th>EnclosedPorch</th>\n      <th>ThreeSsnPorch</th>\n      <th>ScreenPorch</th>\n      <th>PoolArea</th>\n      <th>MiscVal</th>\n      <th>MoSold</th>\n      <th>YrSold</th>\n    </tr>\n    <tr>\n      <th>Id</th>\n      <th></th>\n      <th></th>\n      <th></th>\n      <th></th>\n      <th></th>\n      <th></th>\n      <th></th>\n      <th></th>\n      <th></th>\n      <th></th>\n      <th></th>\n      <th></th>\n      <th></th>\n      <th></th>\n      <th></th>\n      <th></th>\n      <th></th>\n      <th></th>\n      <th></th>\n      <th></th>\n      <th></th>\n    </tr>\n  </thead>\n  <tbody>\n    <tr>\n      <th>1461</th>\n      <td>RH</td>\n      <td>Pave</td>\n      <td>Reg</td>\n      <td>Lvl</td>\n      <td>Inside</td>\n      <td>Gtl</td>\n      <td>Feedr</td>\n      <td>Norm</td>\n      <td>1Fam</td>\n      <td>1Story</td>\n      <td>...</td>\n      <td>730.0</td>\n      <td>140</td>\n      <td>0</td>\n      <td>0</td>\n      <td>0</td>\n      <td>120</td>\n      <td>0</td>\n      <td>0</td>\n      <td>6</td>\n      <td>2010</td>\n    </tr>\n    <tr>\n      <th>1462</th>\n      <td>RL</td>\n      <td>Pave</td>\n      <td>IR1</td>\n      <td>Lvl</td>\n      <td>Corner</td>\n      <td>Gtl</td>\n      <td>Norm</td>\n      <td>Norm</td>\n      <td>1Fam</td>\n      <td>1Story</td>\n      <td>...</td>\n      <td>312.0</td>\n      <td>393</td>\n      <td>36</td>\n      <td>0</td>\n      <td>0</td>\n      <td>0</td>\n      <td>0</td>\n      <td>12500</td>\n      <td>6</td>\n      <td>2010</td>\n    </tr>\n    <tr>\n      <th>1463</th>\n      <td>RL</td>\n      <td>Pave</td>\n      <td>IR1</td>\n      <td>Lvl</td>\n      <td>Inside</td>\n      <td>Gtl</td>\n      <td>Norm</td>\n      <td>Norm</td>\n      <td>1Fam</td>\n      <td>2Story</td>\n      <td>...</td>\n      <td>482.0</td>\n      <td>212</td>\n      <td>34</td>\n      <td>0</td>\n      <td>0</td>\n      <td>0</td>\n      <td>0</td>\n      <td>0</td>\n      <td>3</td>\n      <td>2010</td>\n    </tr>\n    <tr>\n      <th>1464</th>\n      <td>RL</td>\n      <td>Pave</td>\n      <td>IR1</td>\n      <td>Lvl</td>\n      <td>Inside</td>\n      <td>Gtl</td>\n      <td>Norm</td>\n      <td>Norm</td>\n      <td>1Fam</td>\n      <td>2Story</td>\n      <td>...</td>\n      <td>470.0</td>\n      <td>360</td>\n      <td>36</td>\n      <td>0</td>\n      <td>0</td>\n      <td>0</td>\n      <td>0</td>\n      <td>0</td>\n      <td>6</td>\n      <td>2010</td>\n    </tr>\n    <tr>\n      <th>1465</th>\n      <td>RL</td>\n      <td>Pave</td>\n      <td>IR1</td>\n      <td>HLS</td>\n      <td>Inside</td>\n      <td>Gtl</td>\n      <td>Norm</td>\n      <td>Norm</td>\n      <td>TwnhsE</td>\n      <td>1Story</td>\n      <td>...</td>\n      <td>506.0</td>\n      <td>0</td>\n      <td>82</td>\n      <td>0</td>\n      <td>0</td>\n      <td>144</td>\n      <td>0</td>\n      <td>0</td>\n      <td>1</td>\n      <td>2010</td>\n    </tr>\n    <tr>\n      <th>1466</th>\n      <td>RL</td>\n      <td>Pave</td>\n      <td>IR1</td>\n      <td>Lvl</td>\n      <td>Corner</td>\n      <td>Gtl</td>\n      <td>Norm</td>\n      <td>Norm</td>\n      <td>1Fam</td>\n      <td>2Story</td>\n      <td>...</td>\n      <td>440.0</td>\n      <td>157</td>\n      <td>84</td>\n      <td>0</td>\n      <td>0</td>\n      <td>0</td>\n      <td>0</td>\n      <td>0</td>\n      <td>4</td>\n      <td>2010</td>\n    </tr>\n    <tr>\n      <th>1467</th>\n      <td>RL</td>\n      <td>Pave</td>\n      <td>IR1</td>\n      <td>Lvl</td>\n      <td>Inside</td>\n      <td>Gtl</td>\n      <td>Norm</td>\n      <td>Norm</td>\n      <td>1Fam</td>\n      <td>1Story</td>\n      <td>...</td>\n      <td>420.0</td>\n      <td>483</td>\n      <td>21</td>\n      <td>0</td>\n      <td>0</td>\n      <td>0</td>\n      <td>0</td>\n      <td>500</td>\n      <td>3</td>\n      <td>2010</td>\n    </tr>\n    <tr>\n      <th>1468</th>\n      <td>RL</td>\n      <td>Pave</td>\n      <td>IR1</td>\n      <td>Lvl</td>\n      <td>Inside</td>\n      <td>Gtl</td>\n      <td>Norm</td>\n      <td>Norm</td>\n      <td>1Fam</td>\n      <td>2Story</td>\n      <td>...</td>\n      <td>393.0</td>\n      <td>0</td>\n      <td>75</td>\n      <td>0</td>\n      <td>0</td>\n      <td>0</td>\n      <td>0</td>\n      <td>0</td>\n      <td>5</td>\n      <td>2010</td>\n    </tr>\n    <tr>\n      <th>1469</th>\n      <td>RL</td>\n      <td>Pave</td>\n      <td>Reg</td>\n      <td>Lvl</td>\n      <td>Inside</td>\n      <td>Gtl</td>\n      <td>Norm</td>\n      <td>Norm</td>\n      <td>1Fam</td>\n      <td>1Story</td>\n      <td>...</td>\n      <td>506.0</td>\n      <td>192</td>\n      <td>0</td>\n      <td>0</td>\n      <td>0</td>\n      <td>0</td>\n      <td>0</td>\n      <td>0</td>\n      <td>2</td>\n      <td>2010</td>\n    </tr>\n    <tr>\n      <th>1470</th>\n      <td>RL</td>\n      <td>Pave</td>\n      <td>Reg</td>\n      <td>Lvl</td>\n      <td>Corner</td>\n      <td>Gtl</td>\n      <td>Norm</td>\n      <td>Norm</td>\n      <td>1Fam</td>\n      <td>1Story</td>\n      <td>...</td>\n      <td>525.0</td>\n      <td>240</td>\n      <td>0</td>\n      <td>0</td>\n      <td>0</td>\n      <td>0</td>\n      <td>0</td>\n      <td>0</td>\n      <td>4</td>\n      <td>2010</td>\n    </tr>\n  </tbody>\n</table>\n<p>10 rows × 74 columns</p>\n</div>"
     },
     "metadata": {},
     "execution_count": 17
    }
   ],
   "source": [
    "X_test.head(10)"
   ]
  },
  {
   "cell_type": "code",
   "execution_count": 18,
   "id": "suspected-basin",
   "metadata": {
    "execution": {
     "iopub.execute_input": "2021-05-07T22:50:18.501105Z",
     "iopub.status.busy": "2021-05-07T22:50:18.500549Z",
     "iopub.status.idle": "2021-05-07T22:50:18.504423Z",
     "shell.execute_reply": "2021-05-07T22:50:18.504825Z"
    },
    "papermill": {
     "duration": 0.024045,
     "end_time": "2021-05-07T22:50:18.504975",
     "exception": false,
     "start_time": "2021-05-07T22:50:18.480930",
     "status": "completed"
    },
    "tags": []
   },
   "outputs": [
    {
     "output_type": "execute_result",
     "data": {
      "text/plain": [
       "\"\\n\\n# Preprocessing for numerical data\\nnumerical_transformer = SimpleImputer(strategy='constant')\\n\\n# Preprocessing for categorical data\\ncategorical_transformer = Pipeline(steps=[\\n    ('imputer', SimpleImputer(strategy='most_frequent')),\\n    ('onehot', OneHotEncoder(handle_unknown='ignore'))\\n])\\n\\n# Bundle preprocessing for numerical and categorical data\\npreprocessor = ColumnTransformer(\\n    transformers=[\\n        ('num', numerical_transformer, numerical_cols),\\n        ('cat', categorical_transformer, categorical_cols)\\n    ])\\n\\n# Define model\\nmodel = RandomForestRegressor(n_estimators=100, random_state=0)\\n\\n# Bundle preprocessing and modeling code in a pipeline\\nclf = Pipeline(steps=[('preprocessor', preprocessor),\\n                      ('model', model)\\n                     ])\\n\\n# Preprocessing of training data, fit model \\nclf.fit(X_train, y_train)\\n\\n# Preprocessing of validation data, get predictions\\npreds = clf.predict(X_valid)\\n\\nprint('MAE:', mean_absolute_error(y_valid, preds))\\n\\n\""
      ]
     },
     "metadata": {},
     "execution_count": 18
    }
   ],
   "source": [
    "\"\"\"\n",
    "\n",
    "# Preprocessing for numerical data\n",
    "numerical_transformer = SimpleImputer(strategy='constant')\n",
    "\n",
    "# Preprocessing for categorical data\n",
    "categorical_transformer = Pipeline(steps=[\n",
    "    ('imputer', SimpleImputer(strategy='most_frequent')),\n",
    "    ('onehot', OneHotEncoder(handle_unknown='ignore'))\n",
    "])\n",
    "\n",
    "# Bundle preprocessing for numerical and categorical data\n",
    "preprocessor = ColumnTransformer(\n",
    "    transformers=[\n",
    "        ('num', numerical_transformer, numerical_cols),\n",
    "        ('cat', categorical_transformer, categorical_cols)\n",
    "    ])\n",
    "\n",
    "# Define model\n",
    "model = RandomForestRegressor(n_estimators=100, random_state=0)\n",
    "\n",
    "# Bundle preprocessing and modeling code in a pipeline\n",
    "clf = Pipeline(steps=[('preprocessor', preprocessor),\n",
    "                      ('model', model)\n",
    "                     ])\n",
    "\n",
    "# Preprocessing of training data, fit model \n",
    "clf.fit(X_train, y_train)\n",
    "\n",
    "# Preprocessing of validation data, get predictions\n",
    "preds = clf.predict(X_valid)\n",
    "\n",
    "print('MAE:', mean_absolute_error(y_valid, preds))\n",
    "\n",
    "\"\"\""
   ]
  },
  {
   "cell_type": "code",
   "execution_count": 19,
   "id": "cordless-consideration",
   "metadata": {
    "execution": {
     "iopub.execute_input": "2021-05-07T22:50:18.542929Z",
     "iopub.status.busy": "2021-05-07T22:50:18.542398Z",
     "iopub.status.idle": "2021-05-07T22:50:18.547352Z",
     "shell.execute_reply": "2021-05-07T22:50:18.546832Z"
    },
    "papermill": {
     "duration": 0.024772,
     "end_time": "2021-05-07T22:50:18.547473",
     "exception": false,
     "start_time": "2021-05-07T22:50:18.522701",
     "status": "completed"
    },
    "tags": []
   },
   "outputs": [],
   "source": [
    "# Preprocessing for numerical data\n",
    "numerical_transformer = SimpleImputer(strategy='median')# Your code here\n",
    "\n",
    "# Preprocessing for categorical data\n",
    "categorical_transformer = Pipeline(steps=[\n",
    "    ('imputer', SimpleImputer(strategy='most_frequent')),\n",
    "    ('onehot', OneHotEncoder(handle_unknown='ignore'))\n",
    "]) # Your code here\n",
    "\n",
    "# Bundle preprocessing for numerical and categorical data\n",
    "preprocessor = ColumnTransformer(\n",
    "    transformers=[\n",
    "        ('num', numerical_transformer, numerical_cols),\n",
    "        ('cat', categorical_transformer, categorical_cols)\n",
    "    ])\n",
    "\n",
    "# Define model\n",
    "#model = RandomForestRegressor(n_estimators=52, random_state=1) # Your code here"
   ]
  },
  {
   "cell_type": "code",
   "execution_count": 20,
   "id": "restricted-software",
   "metadata": {
    "execution": {
     "iopub.execute_input": "2021-05-07T22:50:18.587802Z",
     "iopub.status.busy": "2021-05-07T22:50:18.587027Z",
     "iopub.status.idle": "2021-05-07T22:50:18.590785Z",
     "shell.execute_reply": "2021-05-07T22:50:18.590354Z"
    },
    "papermill": {
     "duration": 0.025694,
     "end_time": "2021-05-07T22:50:18.590909",
     "exception": false,
     "start_time": "2021-05-07T22:50:18.565215",
     "status": "completed"
    },
    "tags": []
   },
   "outputs": [
    {
     "output_type": "execute_result",
     "data": {
      "text/plain": [
       "'\\nimport optuna\\n\\ndef objective(trial):\\n       \\n    xgb_params_2 = dict(\\n        random_state=trial.suggest_int(\"random_state\", 0, 2), \\n        num_parallel_tree=trial.suggest_int(\"num_parallel_tree\", 1, 3), \\n        max_depth=trial.suggest_int(\"max_depth\", 2, 10),\\n        learning_rate=trial.suggest_float(\"learning_rate\", 1e-4, 1e-1, log=True),\\n        n_estimators=trial.suggest_int(\"n_estimators\", 1000, 8000),\\n        min_child_weight=trial.suggest_int(\"min_child_weight\", 1, 10),\\n        colsample_bytree=trial.suggest_float(\"colsample_bytree\", 0.2, 1.0),\\n        subsample=trial.suggest_float(\"subsample\", 0.2, 1.0),\\n        reg_alpha=trial.suggest_float(\"reg_alpha\", 1e-4, 1e2, log=True),\\n        reg_lambda=trial.suggest_float(\"reg_lambda\", 1e-4, 1e2, log=True),\\n        \\n    )\\n    xgb_2 = XGBRegressor(**xgb_params_2) #XGBRegressor\\n    \\n    my_pipeline = Pipeline(steps=[(\\'preprocessor\\', preprocessor),\\n                              (\\'model\\', xgb_2)\\n                             ])\\n    \\n    #my_pipeline.fit(X_train, y)\\n    #preds = my_pipeline.predict(X_test)\\n    #score = mean_absolute_error(y, preds) \\n    #print(\\'MAE:\\', score)\\n    #return score\\n   # return score_dataset(X_train, y_train, xgb)\\n    \\n    scores = -1 * cross_val_score(my_pipeline, X_train, y,\\n                              cv=5,\\n                              scoring=\\'neg_mean_absolute_error\\')\\n    \\n    return scores.mean()\\n\\n\\nstudy = optuna.create_study(direction=\"minimize\")\\nstudy.optimize(objective, n_trials=30)\\n#xgb_params_2 = study.best_params\\n'"
      ]
     },
     "metadata": {},
     "execution_count": 20
    }
   ],
   "source": [
    "# make sure to comment this out, before submitting \n",
    "\"\"\"\n",
    "import optuna\n",
    "\n",
    "def objective(trial):\n",
    "       \n",
    "    xgb_params_2 = dict(\n",
    "        random_state=trial.suggest_int(\"random_state\", 0, 2), \n",
    "        num_parallel_tree=trial.suggest_int(\"num_parallel_tree\", 1, 3), \n",
    "        max_depth=trial.suggest_int(\"max_depth\", 2, 10),\n",
    "        learning_rate=trial.suggest_float(\"learning_rate\", 1e-4, 1e-1, log=True),\n",
    "        n_estimators=trial.suggest_int(\"n_estimators\", 1000, 8000),\n",
    "        min_child_weight=trial.suggest_int(\"min_child_weight\", 1, 10),\n",
    "        colsample_bytree=trial.suggest_float(\"colsample_bytree\", 0.2, 1.0),\n",
    "        subsample=trial.suggest_float(\"subsample\", 0.2, 1.0),\n",
    "        reg_alpha=trial.suggest_float(\"reg_alpha\", 1e-4, 1e2, log=True),\n",
    "        reg_lambda=trial.suggest_float(\"reg_lambda\", 1e-4, 1e2, log=True),\n",
    "        \n",
    "    )\n",
    "    xgb_2 = XGBRegressor(**xgb_params_2) #XGBRegressor\n",
    "    \n",
    "    my_pipeline = Pipeline(steps=[('preprocessor', preprocessor),\n",
    "                              ('model', xgb_2)\n",
    "                             ])\n",
    "    \n",
    "    #my_pipeline.fit(X_train, y)\n",
    "    #preds = my_pipeline.predict(X_test)\n",
    "    #score = mean_absolute_error(y, preds) \n",
    "    #print('MAE:', score)\n",
    "    #return score\n",
    "   # return score_dataset(X_train, y_train, xgb)\n",
    "    \n",
    "    scores = -1 * cross_val_score(my_pipeline, X_train, y,\n",
    "                              cv=5,\n",
    "                              scoring='neg_mean_absolute_error')\n",
    "    \n",
    "    return scores.mean()\n",
    "\n",
    "\n",
    "study = optuna.create_study(direction=\"minimize\")\n",
    "study.optimize(objective, n_trials=30)\n",
    "#xgb_params_2 = study.best_params\n",
    "\"\"\""
   ]
  },
  {
   "cell_type": "code",
   "execution_count": 21,
   "id": "occasional-election",
   "metadata": {
    "execution": {
     "iopub.execute_input": "2021-05-07T22:50:18.631179Z",
     "iopub.status.busy": "2021-05-07T22:50:18.630438Z",
     "iopub.status.idle": "2021-05-07T22:50:18.633104Z",
     "shell.execute_reply": "2021-05-07T22:50:18.633466Z"
    },
    "papermill": {
     "duration": 0.024246,
     "end_time": "2021-05-07T22:50:18.633632",
     "exception": false,
     "start_time": "2021-05-07T22:50:18.609386",
     "status": "completed"
    },
    "tags": []
   },
   "outputs": [],
   "source": [
    "#trial = study.best_trial\n",
    "#print('Accuracy: {}'.format(trial.value))\n",
    "#print(\"Best hyperparameters: {}\".format(trial.params))"
   ]
  },
  {
   "cell_type": "code",
   "execution_count": 22,
   "id": "downtown-outline",
   "metadata": {
    "execution": {
     "iopub.execute_input": "2021-05-07T22:50:18.675276Z",
     "iopub.status.busy": "2021-05-07T22:50:18.674207Z",
     "iopub.status.idle": "2021-05-07T22:50:18.677306Z",
     "shell.execute_reply": "2021-05-07T22:50:18.676721Z"
    },
    "papermill": {
     "duration": 0.025813,
     "end_time": "2021-05-07T22:50:18.677446",
     "exception": false,
     "start_time": "2021-05-07T22:50:18.651633",
     "status": "completed"
    },
    "tags": []
   },
   "outputs": [],
   "source": [
    "# Here is the best result I got so far. \n",
    "#Trial 9 finished with value: 14907.946436215754 and parameters: {'random_state': 0, 'num_parallel_tree': 2, 'max_depth': 5, 'learning_rate': 0.0035938340285897575, 'n_estimators': 7278, 'min_child_weight': 1, 'colsample_bytree': 0.3033265735709497, 'subsample': 0.348801301690591, 'reg_alpha': 0.0006595500664829579, 'reg_lambda': 6.451236513351137}. Best is trial 9 with value: 14907.946436215754.\n",
    "#Accuracy: 13972.736930115581\n",
    "#Best hyperparameters: {'max_depth': 3, 'learning_rate': 0.047637327146321726, 'n_estimators': 2708, 'min_child_weight': 3, 'colsample_bytree': 0.2090033901858265, 'subsample': 0.8332562804302324, 'reg_alpha': 1.30364086901903, 'reg_lambda': 0.9728728504211933}\n",
    "\n",
    "xgb_params = dict(random_state=0,\n",
    "    max_depth=5,           # maximum depth of each tree - try 2 to 10\n",
    "    learning_rate=0.0035938340285897575,    # effect of each tree - try 0.0001 to 0.1\n",
    "    n_estimators=7278,     # number of trees (that is, boosting rounds) - try 1000 to 8000\n",
    "    min_child_weight=1,    # minimum number of houses in a leaf - try 1 to 10\n",
    "    colsample_bytree=0.3033265735709497,  # fraction of features (columns) per tree - try 0.2 to 1.0\n",
    "    subsample=0.348801301690591,         # 0.7 fraction of instances (rows) per tree - try 0.2 to 1.0\n",
    "    reg_alpha=0.0006595500664829579,         # 0.5 L1 regularization (like LASSO) - try 0.0 to 10.0\n",
    "    reg_lambda=6.451236513351137,        # L2 regularization (like Ridge) - try 0.0 to 10.0                 \n",
    "    num_parallel_tree=2  # set > 1 for boosted random forests\n",
    "                         ) # Your code here\n",
    "\n",
    "my_model = XGBRegressor(**xgb_params)"
   ]
  },
  {
   "cell_type": "code",
   "execution_count": 23,
   "id": "presidential-flesh",
   "metadata": {
    "execution": {
     "iopub.execute_input": "2021-05-07T22:50:18.733453Z",
     "iopub.status.busy": "2021-05-07T22:50:18.732623Z",
     "iopub.status.idle": "2021-05-07T22:50:18.740476Z",
     "shell.execute_reply": "2021-05-07T22:50:18.741103Z"
    },
    "papermill": {
     "duration": 0.037041,
     "end_time": "2021-05-07T22:50:18.741285",
     "exception": false,
     "start_time": "2021-05-07T22:50:18.704244",
     "status": "completed"
    },
    "tags": []
   },
   "outputs": [],
   "source": [
    "# Bundle preprocessing and modeling code in a pipeline\n",
    "my_pipeline = Pipeline(steps=[('preprocessor', preprocessor),\n",
    "                              ('model', my_model)\n",
    "                              ])"
   ]
  },
  {
   "cell_type": "code",
   "execution_count": 24,
   "id": "spiritual-aluminum",
   "metadata": {
    "execution": {
     "iopub.execute_input": "2021-05-07T22:50:18.801336Z",
     "iopub.status.busy": "2021-05-07T22:50:18.793866Z",
     "iopub.status.idle": "2021-05-07T22:52:37.991476Z",
     "shell.execute_reply": "2021-05-07T22:52:37.992163Z"
    },
    "papermill": {
     "duration": 139.23043,
     "end_time": "2021-05-07T22:52:37.992403",
     "exception": false,
     "start_time": "2021-05-07T22:50:18.761973",
     "status": "completed"
    },
    "tags": []
   },
   "outputs": [
    {
     "output_type": "stream",
     "name": "stdout",
     "text": [
      "MAE scores:\n [13928.22167969 16245.17309236 15262.0822988  13162.25743793\n 15988.33901434]\n"
     ]
    }
   ],
   "source": [
    "# Multiply by -1 since sklearn calculates *negative* MAE\n",
    "scores = -1 * cross_val_score(my_pipeline, X_train, y,\n",
    "                              cv=5,\n",
    "                              scoring='neg_mean_absolute_error')\n",
    "\n",
    "print(\"MAE scores:\\n\", scores)\n"
   ]
  },
  {
   "cell_type": "code",
   "execution_count": 25,
   "id": "scenic-beverage",
   "metadata": {
    "execution": {
     "iopub.execute_input": "2021-05-07T22:52:38.036171Z",
     "iopub.status.busy": "2021-05-07T22:52:38.035423Z",
     "iopub.status.idle": "2021-05-07T22:52:38.038851Z",
     "shell.execute_reply": "2021-05-07T22:52:38.038336Z"
    },
    "papermill": {
     "duration": 0.026519,
     "end_time": "2021-05-07T22:52:38.038979",
     "exception": false,
     "start_time": "2021-05-07T22:52:38.012460",
     "status": "completed"
    },
    "tags": []
   },
   "outputs": [
    {
     "output_type": "stream",
     "name": "stdout",
     "text": [
      "Average MAE score: 14917.21470462329\n"
     ]
    }
   ],
   "source": [
    "print(\"Average MAE score:\", scores.mean())\n",
    "\n",
    "#15374 last submit\n",
    "#14930 best from test cv=15\n",
    "\n",
    "\n",
    "#15392 clean all with drop alley and utilities\n",
    "#15379 clean numeric only\n",
    "\n",
    "#15297 clean numeric with drop alley and utilities"
   ]
  },
  {
   "cell_type": "code",
   "execution_count": 26,
   "id": "permanent-ticket",
   "metadata": {
    "execution": {
     "iopub.execute_input": "2021-05-07T22:52:38.086142Z",
     "iopub.status.busy": "2021-05-07T22:52:38.085496Z",
     "iopub.status.idle": "2021-05-07T22:53:12.561113Z",
     "shell.execute_reply": "2021-05-07T22:53:12.561795Z"
    },
    "papermill": {
     "duration": 34.503889,
     "end_time": "2021-05-07T22:53:12.562039",
     "exception": false,
     "start_time": "2021-05-07T22:52:38.058150",
     "status": "completed"
    },
    "tags": []
   },
   "outputs": [],
   "source": [
    "# Preprocessing of training data, fit model \n",
    "my_pipeline.fit(X_train, y)\n",
    "\n",
    "# Preprocessing of test data, fit model\n",
    "preds_test = my_pipeline.predict(X_test) # Your code here\n",
    "\n",
    "# Preprocessing of training data, fit model \n",
    "#my_pipeline.fit(X_train, y_train)\n",
    "\n",
    "# Preprocessing of validation data, get predictions\n",
    "#preds = my_pipeline.predict(X_valid)\n",
    "\n",
    "# Evaluate the model\n",
    "#score = mean_absolute_error(y, preds_test)\n",
    "#print('MAE:', score)"
   ]
  },
  {
   "cell_type": "code",
   "execution_count": 27,
   "id": "touched-champion",
   "metadata": {
    "execution": {
     "iopub.execute_input": "2021-05-07T22:53:12.606902Z",
     "iopub.status.busy": "2021-05-07T22:53:12.606365Z",
     "iopub.status.idle": "2021-05-07T22:53:12.615230Z",
     "shell.execute_reply": "2021-05-07T22:53:12.614742Z"
    },
    "papermill": {
     "duration": 0.033644,
     "end_time": "2021-05-07T22:53:12.615373",
     "exception": false,
     "start_time": "2021-05-07T22:53:12.581729",
     "status": "completed"
    },
    "tags": []
   },
   "outputs": [],
   "source": [
    "# Save test predictions to file\n",
    "output = pd.DataFrame({'Id': X_test.index,\n",
    "                       'SalePrice': preds_test})\n",
    "output.to_csv('submission.csv', index=False)"
   ]
  },
  {
   "source": [
    "#GridSearchCV \n",
    "#ElasticNet()\n",
    "#KFold\n",
    "\"\"\"\n",
    "kf = KFold(n_splits=12, shuffle=True, random_state=42)\n",
    "# Using Cross_validation_Score to get Root mean square error\n",
    "\n",
    "def cv_rmse(model):\n",
    "    \n",
    "    return np.sqrt(-cross_val_score(model, train, price, scoring=\"neg_mean_squared_error\", cv=kf)).mean()\n",
    "    \n",
    "# Evaluating model with default parameters and check the rmse value\n",
    "elastic_net = ElasticNet()\n",
    "print(\"RMSE with default parameters :\",cv_rmse(elastic_net))\n",
    "RMSE with default parameters : 0.17519749831464346\n",
    "# Lets tune Parameters\n",
    "\n",
    "alpha = [0.001,0.005,0.01,0.05,0.1,0.5,1,5,10,50,100]\n",
    "l1_ratio = [0.001,0.005,0.01,0.05,0.1,0.5,1,5,10,50,100]\n",
    "\n",
    "params = {\"alpha\":alpha,\"l1_ratio\":l1_ratio}\n",
    "# Apply GridSearchCV to get optimal Parameters\n",
    "\n",
    "grid_cv = GridSearchCV(estimator=elastic_net,\n",
    "                       param_grid=params,\n",
    "                       cv=kf,\n",
    "                       refit=True,\n",
    "                       verbose=1)\n",
    "                       \n",
    "# Fitting the gridsearchcv model and get the best parameters\n",
    "\n",
    "grid_cv.fit(train,price)\n",
    "Fitting 12 folds for each of 121 candidates, totalling 1452 fits\n",
    "[Parallel(n_jobs=1)]: Using backend SequentialBackend with 1 concurrent workers.\n",
    "[Parallel(n_jobs=1)]: Done 1452 out of 1452 | elapsed:  6.2min finished\n",
    "GridSearchCV(cv=KFold(n_splits=12, random_state=42, shuffle=True),\n",
    "             estimator=ElasticNet(),\n",
    "             param_grid={'alpha': [0.001, 0.005, 0.01, 0.05, 0.1, 0.5, 1, 5, 10,\n",
    "                                   50, 100],\n",
    "                         'l1_ratio': [0.001, 0.005, 0.01, 0.05, 0.1, 0.5, 1, 5,\n",
    "                                      10, 50, 100]},\n",
    "             verbose=1)\n",
    "grid_cv.best_score_, grid_cv.best_params_\n",
    "(0.9253241732844129, {'alpha': 0.001, 'l1_ratio': 0.5})\n",
    "# Redefining model with above parameter values\n",
    "\n",
    "elastic_net = ElasticNet(alpha=0.001, l1_ratio=0.5).fit(train,price)\n",
    "cv_rmse(elastic_net)\n",
    "0.10783460477814694\n",
    "\"\"\""
   ],
   "cell_type": "code",
   "metadata": {},
   "execution_count": 28,
   "outputs": [
    {
     "output_type": "execute_result",
     "data": {
      "text/plain": [
       "'\\nkf = KFold(n_splits=12, shuffle=True, random_state=42)\\n# Using Cross_validation_Score to get Root mean square error\\n\\ndef cv_rmse(model):\\n    \\n    return np.sqrt(-cross_val_score(model, train, price, scoring=\"neg_mean_squared_error\", cv=kf)).mean()\\n    \\n# Evaluating model with default parameters and check the rmse value\\nelastic_net = ElasticNet()\\nprint(\"RMSE with default parameters :\",cv_rmse(elastic_net))\\nRMSE with default parameters : 0.17519749831464346\\n# Lets tune Parameters\\n\\nalpha = [0.001,0.005,0.01,0.05,0.1,0.5,1,5,10,50,100]\\nl1_ratio = [0.001,0.005,0.01,0.05,0.1,0.5,1,5,10,50,100]\\n\\nparams = {\"alpha\":alpha,\"l1_ratio\":l1_ratio}\\n# Apply GridSearchCV to get optimal Parameters\\n\\ngrid_cv = GridSearchCV(estimator=elastic_net,\\n                       param_grid=params,\\n                       cv=kf,\\n                       refit=True,\\n                       verbose=1)\\n                       \\n# Fitting the gridsearchcv model and get the best parameters\\n\\ngrid_cv.fit(train,price)\\nFitting 12 folds for each of 121 candidates, totalling 1452 fits\\n[Parallel(n_jobs=1)]: Using backend SequentialBackend with 1 concurrent workers.\\n[Parallel(n_jobs=1)]: Done 1452 out of 1452 | elapsed:  6.2min finished\\nGridSearchCV(cv=KFold(n_splits=12, random_state=42, shuffle=True),\\n             estimator=ElasticNet(),\\n             param_grid={\\'alpha\\': [0.001, 0.005, 0.01, 0.05, 0.1, 0.5, 1, 5, 10,\\n                                   50, 100],\\n                         \\'l1_ratio\\': [0.001, 0.005, 0.01, 0.05, 0.1, 0.5, 1, 5,\\n                                      10, 50, 100]},\\n             verbose=1)\\ngrid_cv.best_score_, grid_cv.best_params_\\n(0.9253241732844129, {\\'alpha\\': 0.001, \\'l1_ratio\\': 0.5})\\n# Redefining model with above parameter values\\n\\nelastic_net = ElasticNet(alpha=0.001, l1_ratio=0.5).fit(train,price)\\ncv_rmse(elastic_net)\\n0.10783460477814694\\n'"
      ]
     },
     "metadata": {},
     "execution_count": 28
    }
   ]
  }
 ],
 "metadata": {
  "kernelspec": {
   "name": "python391jvsc74a57bd08f0e6e8876776058453f48ad7c7dcdebdb8994a74dd96d3c38b5ba45b7b9008d",
   "display_name": "Python 3.9.1 64-bit"
  },
  "language_info": {
   "codemirror_mode": {
    "name": "ipython",
    "version": 3
   },
   "file_extension": ".py",
   "mimetype": "text/x-python",
   "name": "python",
   "nbconvert_exporter": "python",
   "pygments_lexer": "ipython3",
   "version": "3.9.1"
  },
  "papermill": {
   "default_parameters": {},
   "duration": 184.80959,
   "end_time": "2021-05-07T22:53:14.376152",
   "environment_variables": {},
   "exception": null,
   "input_path": "__notebook__.ipynb",
   "output_path": "__notebook__.ipynb",
   "parameters": {},
   "start_time": "2021-05-07T22:50:09.566562",
   "version": "2.3.3"
  }
 },
 "nbformat": 4,
 "nbformat_minor": 5
}