{
 "cells": [
  {
   "cell_type": "markdown",
   "id": "cross-nirvana",
   "metadata": {
    "papermill": {
     "duration": 0.026971,
     "end_time": "2021-04-30T14:37:24.746442",
     "exception": false,
     "start_time": "2021-04-30T14:37:24.719471",
     "status": "completed"
    },
    "tags": []
   },
   "source": [
    "**This notebook is an exercise in the [Intermediate Machine Learning](https://www.kaggle.com/learn/intermediate-machine-learning) course.  You can reference the tutorial at [this link](https://www.kaggle.com/alexisbcook/missing-values).**\n",
    "\n",
    "---\n"
   ]
  },
  {
   "cell_type": "code",
   "execution_count": 2,
   "id": "preliminary-extreme",
   "metadata": {
    "execution": {
     "iopub.execute_input": "2021-04-30T14:37:25.036290Z",
     "iopub.status.busy": "2021-04-30T14:37:25.035320Z",
     "iopub.status.idle": "2021-04-30T14:37:26.627734Z",
     "shell.execute_reply": "2021-04-30T14:37:26.627088Z"
    },
    "papermill": {
     "duration": 1.627575,
     "end_time": "2021-04-30T14:37:26.627888",
     "exception": false,
     "start_time": "2021-04-30T14:37:25.000313",
     "status": "completed"
    },
    "tags": []
   },
   "outputs": [],
   "source": [
    "import pandas as pd\n",
    "from sklearn.model_selection import train_test_split\n",
    "\n",
    "# Read the data\n",
    "X_full = pd.read_csv('../input/train.csv', index_col='Id')\n",
    "X_test_full = pd.read_csv('../input/test.csv', index_col='Id')\n",
    "\n",
    "# Remove rows with missing target, separate target from predictors\n",
    "X_full.dropna(axis=0, subset=['SalePrice'], inplace=True)\n",
    "y = X_full.SalePrice\n",
    "X_full.drop(['SalePrice'], axis=1, inplace=True)\n",
    "\n",
    "# To keep things simple, we'll use only numerical predictors\n",
    "X = X_full.select_dtypes(exclude=['object'])\n",
    "X_test = X_test_full.select_dtypes(exclude=['object'])\n",
    "\n",
    "# Break off validation set from training data\n",
    "X_train, X_valid, y_train, y_valid = train_test_split(X, y, train_size=0.8, test_size=0.2,\n",
    "                                                      random_state=0)"
   ]
  },
  {
   "cell_type": "markdown",
   "id": "hollow-rebate",
   "metadata": {
    "papermill": {
     "duration": 0.026621,
     "end_time": "2021-04-30T14:37:26.680974",
     "exception": false,
     "start_time": "2021-04-30T14:37:26.654353",
     "status": "completed"
    },
    "tags": []
   },
   "source": [
    "Use the next code cell to print the first five rows of the data."
   ]
  },
  {
   "cell_type": "code",
   "execution_count": 3,
   "id": "racial-stake",
   "metadata": {
    "execution": {
     "iopub.execute_input": "2021-04-30T14:37:26.738534Z",
     "iopub.status.busy": "2021-04-30T14:37:26.737593Z",
     "iopub.status.idle": "2021-04-30T14:37:26.774831Z",
     "shell.execute_reply": "2021-04-30T14:37:26.775413Z"
    },
    "papermill": {
     "duration": 0.0681,
     "end_time": "2021-04-30T14:37:26.775645",
     "exception": false,
     "start_time": "2021-04-30T14:37:26.707545",
     "status": "completed"
    },
    "tags": []
   },
   "outputs": [
    {
     "data": {
      "text/html": [
       "<div>\n",
       "<style scoped>\n",
       "    .dataframe tbody tr th:only-of-type {\n",
       "        vertical-align: middle;\n",
       "    }\n",
       "\n",
       "    .dataframe tbody tr th {\n",
       "        vertical-align: top;\n",
       "    }\n",
       "\n",
       "    .dataframe thead th {\n",
       "        text-align: right;\n",
       "    }\n",
       "</style>\n",
       "<table border=\"1\" class=\"dataframe\">\n",
       "  <thead>\n",
       "    <tr style=\"text-align: right;\">\n",
       "      <th></th>\n",
       "      <th>MSSubClass</th>\n",
       "      <th>LotFrontage</th>\n",
       "      <th>LotArea</th>\n",
       "      <th>OverallQual</th>\n",
       "      <th>OverallCond</th>\n",
       "      <th>YearBuilt</th>\n",
       "      <th>YearRemodAdd</th>\n",
       "      <th>MasVnrArea</th>\n",
       "      <th>BsmtFinSF1</th>\n",
       "      <th>BsmtFinSF2</th>\n",
       "      <th>...</th>\n",
       "      <th>GarageArea</th>\n",
       "      <th>WoodDeckSF</th>\n",
       "      <th>OpenPorchSF</th>\n",
       "      <th>EnclosedPorch</th>\n",
       "      <th>3SsnPorch</th>\n",
       "      <th>ScreenPorch</th>\n",
       "      <th>PoolArea</th>\n",
       "      <th>MiscVal</th>\n",
       "      <th>MoSold</th>\n",
       "      <th>YrSold</th>\n",
       "    </tr>\n",
       "    <tr>\n",
       "      <th>Id</th>\n",
       "      <th></th>\n",
       "      <th></th>\n",
       "      <th></th>\n",
       "      <th></th>\n",
       "      <th></th>\n",
       "      <th></th>\n",
       "      <th></th>\n",
       "      <th></th>\n",
       "      <th></th>\n",
       "      <th></th>\n",
       "      <th></th>\n",
       "      <th></th>\n",
       "      <th></th>\n",
       "      <th></th>\n",
       "      <th></th>\n",
       "      <th></th>\n",
       "      <th></th>\n",
       "      <th></th>\n",
       "      <th></th>\n",
       "      <th></th>\n",
       "      <th></th>\n",
       "    </tr>\n",
       "  </thead>\n",
       "  <tbody>\n",
       "    <tr>\n",
       "      <th>619</th>\n",
       "      <td>20</td>\n",
       "      <td>90.0</td>\n",
       "      <td>11694</td>\n",
       "      <td>9</td>\n",
       "      <td>5</td>\n",
       "      <td>2007</td>\n",
       "      <td>2007</td>\n",
       "      <td>452.0</td>\n",
       "      <td>48</td>\n",
       "      <td>0</td>\n",
       "      <td>...</td>\n",
       "      <td>774</td>\n",
       "      <td>0</td>\n",
       "      <td>108</td>\n",
       "      <td>0</td>\n",
       "      <td>0</td>\n",
       "      <td>260</td>\n",
       "      <td>0</td>\n",
       "      <td>0</td>\n",
       "      <td>7</td>\n",
       "      <td>2007</td>\n",
       "    </tr>\n",
       "    <tr>\n",
       "      <th>871</th>\n",
       "      <td>20</td>\n",
       "      <td>60.0</td>\n",
       "      <td>6600</td>\n",
       "      <td>5</td>\n",
       "      <td>5</td>\n",
       "      <td>1962</td>\n",
       "      <td>1962</td>\n",
       "      <td>0.0</td>\n",
       "      <td>0</td>\n",
       "      <td>0</td>\n",
       "      <td>...</td>\n",
       "      <td>308</td>\n",
       "      <td>0</td>\n",
       "      <td>0</td>\n",
       "      <td>0</td>\n",
       "      <td>0</td>\n",
       "      <td>0</td>\n",
       "      <td>0</td>\n",
       "      <td>0</td>\n",
       "      <td>8</td>\n",
       "      <td>2009</td>\n",
       "    </tr>\n",
       "    <tr>\n",
       "      <th>93</th>\n",
       "      <td>30</td>\n",
       "      <td>80.0</td>\n",
       "      <td>13360</td>\n",
       "      <td>5</td>\n",
       "      <td>7</td>\n",
       "      <td>1921</td>\n",
       "      <td>2006</td>\n",
       "      <td>0.0</td>\n",
       "      <td>713</td>\n",
       "      <td>0</td>\n",
       "      <td>...</td>\n",
       "      <td>432</td>\n",
       "      <td>0</td>\n",
       "      <td>0</td>\n",
       "      <td>44</td>\n",
       "      <td>0</td>\n",
       "      <td>0</td>\n",
       "      <td>0</td>\n",
       "      <td>0</td>\n",
       "      <td>8</td>\n",
       "      <td>2009</td>\n",
       "    </tr>\n",
       "    <tr>\n",
       "      <th>818</th>\n",
       "      <td>20</td>\n",
       "      <td>NaN</td>\n",
       "      <td>13265</td>\n",
       "      <td>8</td>\n",
       "      <td>5</td>\n",
       "      <td>2002</td>\n",
       "      <td>2002</td>\n",
       "      <td>148.0</td>\n",
       "      <td>1218</td>\n",
       "      <td>0</td>\n",
       "      <td>...</td>\n",
       "      <td>857</td>\n",
       "      <td>150</td>\n",
       "      <td>59</td>\n",
       "      <td>0</td>\n",
       "      <td>0</td>\n",
       "      <td>0</td>\n",
       "      <td>0</td>\n",
       "      <td>0</td>\n",
       "      <td>7</td>\n",
       "      <td>2008</td>\n",
       "    </tr>\n",
       "    <tr>\n",
       "      <th>303</th>\n",
       "      <td>20</td>\n",
       "      <td>118.0</td>\n",
       "      <td>13704</td>\n",
       "      <td>7</td>\n",
       "      <td>5</td>\n",
       "      <td>2001</td>\n",
       "      <td>2002</td>\n",
       "      <td>150.0</td>\n",
       "      <td>0</td>\n",
       "      <td>0</td>\n",
       "      <td>...</td>\n",
       "      <td>843</td>\n",
       "      <td>468</td>\n",
       "      <td>81</td>\n",
       "      <td>0</td>\n",
       "      <td>0</td>\n",
       "      <td>0</td>\n",
       "      <td>0</td>\n",
       "      <td>0</td>\n",
       "      <td>1</td>\n",
       "      <td>2006</td>\n",
       "    </tr>\n",
       "  </tbody>\n",
       "</table>\n",
       "<p>5 rows × 36 columns</p>\n",
       "</div>"
      ],
      "text/plain": [
       "     MSSubClass  LotFrontage  LotArea  OverallQual  OverallCond  YearBuilt  \\\n",
       "Id                                                                           \n",
       "619          20         90.0    11694            9            5       2007   \n",
       "871          20         60.0     6600            5            5       1962   \n",
       "93           30         80.0    13360            5            7       1921   \n",
       "818          20          NaN    13265            8            5       2002   \n",
       "303          20        118.0    13704            7            5       2001   \n",
       "\n",
       "     YearRemodAdd  MasVnrArea  BsmtFinSF1  BsmtFinSF2  ...  GarageArea  \\\n",
       "Id                                                     ...               \n",
       "619          2007       452.0          48           0  ...         774   \n",
       "871          1962         0.0           0           0  ...         308   \n",
       "93           2006         0.0         713           0  ...         432   \n",
       "818          2002       148.0        1218           0  ...         857   \n",
       "303          2002       150.0           0           0  ...         843   \n",
       "\n",
       "     WoodDeckSF  OpenPorchSF  EnclosedPorch  3SsnPorch  ScreenPorch  PoolArea  \\\n",
       "Id                                                                              \n",
       "619           0          108              0          0          260         0   \n",
       "871           0            0              0          0            0         0   \n",
       "93            0            0             44          0            0         0   \n",
       "818         150           59              0          0            0         0   \n",
       "303         468           81              0          0            0         0   \n",
       "\n",
       "     MiscVal  MoSold  YrSold  \n",
       "Id                            \n",
       "619        0       7    2007  \n",
       "871        0       8    2009  \n",
       "93         0       8    2009  \n",
       "818        0       7    2008  \n",
       "303        0       1    2006  \n",
       "\n",
       "[5 rows x 36 columns]"
      ]
     },
     "execution_count": 3,
     "metadata": {},
     "output_type": "execute_result"
    }
   ],
   "source": [
    "X_train.head()"
   ]
  },
  {
   "cell_type": "markdown",
   "id": "necessary-sustainability",
   "metadata": {
    "papermill": {
     "duration": 0.029008,
     "end_time": "2021-04-30T14:37:26.832493",
     "exception": false,
     "start_time": "2021-04-30T14:37:26.803485",
     "status": "completed"
    },
    "tags": []
   },
   "source": [
    "You can already see a few missing values in the first several rows.  In the next step, you'll obtain a more comprehensive understanding of the missing values in the dataset.\n",
    "\n",
    "# Step 1: Preliminary investigation\n",
    "\n",
    "Run the code cell below without changes."
   ]
  },
  {
   "cell_type": "code",
   "execution_count": 4,
   "id": "quarterly-planner",
   "metadata": {
    "execution": {
     "iopub.execute_input": "2021-04-30T14:37:26.893638Z",
     "iopub.status.busy": "2021-04-30T14:37:26.892933Z",
     "iopub.status.idle": "2021-04-30T14:37:26.904918Z",
     "shell.execute_reply": "2021-04-30T14:37:26.906087Z"
    },
    "papermill": {
     "duration": 0.044478,
     "end_time": "2021-04-30T14:37:26.906570",
     "exception": false,
     "start_time": "2021-04-30T14:37:26.862092",
     "status": "completed"
    },
    "tags": []
   },
   "outputs": [
    {
     "name": "stdout",
     "output_type": "stream",
     "text": [
      "(1168, 36)\n",
      "LotFrontage    212\n",
      "MasVnrArea       6\n",
      "GarageYrBlt     58\n",
      "dtype: int64\n"
     ]
    }
   ],
   "source": [
    "# Shape of training data (num_rows, num_columns)\n",
    "print(X_train.shape)\n",
    "\n",
    "# Number of missing values in each column of training data\n",
    "missing_val_count_by_column = (X_train.isnull().sum())\n",
    "print(missing_val_count_by_column[missing_val_count_by_column > 0])"
   ]
  },
  {
   "cell_type": "code",
   "execution_count": 5,
   "id": "successful-pearl",
   "metadata": {
    "execution": {
     "iopub.execute_input": "2021-04-30T14:37:26.971824Z",
     "iopub.status.busy": "2021-04-30T14:37:26.969413Z",
     "iopub.status.idle": "2021-04-30T14:37:26.977122Z",
     "shell.execute_reply": "2021-04-30T14:37:26.976600Z"
    },
    "papermill": {
     "duration": 0.042744,
     "end_time": "2021-04-30T14:37:26.977277",
     "exception": false,
     "start_time": "2021-04-30T14:37:26.934533",
     "status": "completed"
    },
    "tags": []
   },
   "outputs": [
    {
     "name": "stdout",
     "output_type": "stream",
     "text": [
      "(1459, 36)\n",
      "LotFrontage     227\n",
      "MasVnrArea       15\n",
      "BsmtFinSF1        1\n",
      "BsmtFinSF2        1\n",
      "BsmtUnfSF         1\n",
      "TotalBsmtSF       1\n",
      "BsmtFullBath      2\n",
      "BsmtHalfBath      2\n",
      "GarageYrBlt      78\n",
      "GarageCars        1\n",
      "GarageArea        1\n",
      "dtype: int64\n"
     ]
    }
   ],
   "source": [
    "print(X_test.shape)\n",
    "missing_val_count_by_column = (X_test.isnull().sum())\n",
    "print(missing_val_count_by_column[missing_val_count_by_column > 0])\n"
   ]
  },
  {
   "cell_type": "markdown",
   "id": "dominican-candy",
   "metadata": {
    "papermill": {
     "duration": 0.031236,
     "end_time": "2021-04-30T14:37:27.439915",
     "exception": false,
     "start_time": "2021-04-30T14:37:27.408679",
     "status": "completed"
    },
    "tags": []
   },
   "source": [
    "To compare different approaches to dealing with missing values, you'll use the same `score_dataset()` function from the tutorial.  This function reports the [mean absolute error](https://en.wikipedia.org/wiki/Mean_absolute_error) (MAE) from a random forest model."
   ]
  },
  {
   "cell_type": "code",
   "execution_count": 10,
   "id": "failing-schedule",
   "metadata": {
    "execution": {
     "iopub.execute_input": "2021-04-30T14:37:27.506720Z",
     "iopub.status.busy": "2021-04-30T14:37:27.505738Z",
     "iopub.status.idle": "2021-04-30T14:37:27.807893Z",
     "shell.execute_reply": "2021-04-30T14:37:27.807220Z"
    },
    "papermill": {
     "duration": 0.3367,
     "end_time": "2021-04-30T14:37:27.808083",
     "exception": false,
     "start_time": "2021-04-30T14:37:27.471383",
     "status": "completed"
    },
    "tags": []
   },
   "outputs": [],
   "source": [
    "from sklearn.ensemble import RandomForestRegressor\n",
    "from sklearn.metrics import mean_absolute_error\n",
    "\n",
    "# Function for comparing different approaches\n",
    "def score_dataset(X_train, X_valid, y_train, y_valid):\n",
    "    model = RandomForestRegressor(n_estimators=250, random_state=0)\n",
    "    model.fit(X_train, y_train)\n",
    "    preds = model.predict(X_valid)\n",
    "    return mean_absolute_error(y_valid, preds)"
   ]
  },
  {
   "cell_type": "markdown",
   "id": "detailed-recommendation",
   "metadata": {
    "papermill": {
     "duration": 0.031833,
     "end_time": "2021-04-30T14:37:27.871448",
     "exception": false,
     "start_time": "2021-04-30T14:37:27.839615",
     "status": "completed"
    },
    "tags": []
   },
   "source": [
    "# Step 2: Drop columns with missing values\n",
    "\n",
    "In this step, you'll preprocess the data in `X_train` and `X_valid` to remove columns with missing values.  Set the preprocessed DataFrames to `reduced_X_train` and `reduced_X_valid`, respectively.  "
   ]
  },
  {
   "cell_type": "code",
   "execution_count": 11,
   "id": "later-lunch",
   "metadata": {
    "execution": {
     "iopub.execute_input": "2021-04-30T14:37:27.965396Z",
     "iopub.status.busy": "2021-04-30T14:37:27.964432Z",
     "iopub.status.idle": "2021-04-30T14:37:27.971998Z",
     "shell.execute_reply": "2021-04-30T14:37:27.971420Z"
    },
    "papermill": {
     "duration": 0.068399,
     "end_time": "2021-04-30T14:37:27.972167",
     "exception": false,
     "start_time": "2021-04-30T14:37:27.903768",
     "status": "completed"
    },
    "tags": []
   },
   "outputs": [
    {
     "data": {
      "application/javascript": [
       "parent.postMessage({\"jupyterEvent\": \"custom.exercise_interaction\", \"data\": {\"outcomeType\": 1, \"valueTowardsCompletion\": 1.0, \"interactionType\": 1, \"questionType\": 2, \"questionId\": \"2_DropMissing\", \"learnToolsVersion\": \"0.3.4\", \"failureMessage\": \"\", \"exceptionClass\": \"\", \"trace\": \"\"}}, \"*\")"
      ],
      "text/plain": [
       "<IPython.core.display.Javascript object>"
      ]
     },
     "metadata": {},
     "output_type": "display_data"
    },
    {
     "data": {
      "text/markdown": [
       "<span style=\"color:#33cc33\">Correct</span>"
      ],
      "text/plain": [
       "Correct"
      ]
     },
     "metadata": {},
     "output_type": "display_data"
    }
   ],
   "source": [
    "# Fill in the line below: get names of columns with missing values\n",
    "cols_with_missing = [col for col in X_train.columns\n",
    "                     if X_train[col].isnull().any()] # Your code here\n",
    "\n",
    "# Fill in the lines below: drop columns in training and validation data\n",
    "reduced_X_train = X_train.drop(cols_with_missing, axis=1)\n",
    "reduced_X_valid = X_valid.drop(cols_with_missing, axis=1)\n",
    "\n",
    "# Check your answers\n",
    "step_2.check()"
   ]
  },
  {
   "cell_type": "code",
   "execution_count": 13,
   "id": "breeding-affect",
   "metadata": {
    "execution": {
     "iopub.execute_input": "2021-04-30T14:37:28.199250Z",
     "iopub.status.busy": "2021-04-30T14:37:28.186975Z",
     "iopub.status.idle": "2021-04-30T14:37:31.334631Z",
     "shell.execute_reply": "2021-04-30T14:37:31.333940Z"
    },
    "papermill": {
     "duration": 3.189405,
     "end_time": "2021-04-30T14:37:31.334806",
     "exception": false,
     "start_time": "2021-04-30T14:37:28.145401",
     "status": "completed"
    },
    "tags": []
   },
   "outputs": [
    {
     "name": "stdout",
     "output_type": "stream",
     "text": [
      "MAE (Drop columns with missing values):\n",
      "17445.751022831053\n"
     ]
    }
   ],
   "source": [
    "print(\"MAE (Drop columns with missing values):\")\n",
    "print(score_dataset(reduced_X_train, reduced_X_valid, y_train, y_valid))\n",
    "#model_1 = 17783\n",
    "#model_2 = 17837\n",
    "#model_3 = 17895\n",
    "#model_4 = 18259\n",
    "#model_5 = 18423\n",
    "#best 17470 - 38 - randomstate = 1"
   ]
  },
  {
   "cell_type": "markdown",
   "id": "dense-owner",
   "metadata": {
    "papermill": {
     "duration": 0.033598,
     "end_time": "2021-04-30T14:37:31.402084",
     "exception": false,
     "start_time": "2021-04-30T14:37:31.368486",
     "status": "completed"
    },
    "tags": []
   },
   "source": [
    "# Step 3: Imputation\n",
    "\n",
    "### Part A\n",
    "\n",
    "Use the next code cell to impute missing values with the mean value along each column.  Set the preprocessed DataFrames to `imputed_X_train` and `imputed_X_valid`.  Make sure that the column names match those in `X_train` and `X_valid`."
   ]
  },
  {
   "cell_type": "code",
   "execution_count": 14,
   "id": "quantitative-american",
   "metadata": {
    "execution": {
     "iopub.execute_input": "2021-04-30T14:37:31.474494Z",
     "iopub.status.busy": "2021-04-30T14:37:31.473759Z",
     "iopub.status.idle": "2021-04-30T14:37:31.515353Z",
     "shell.execute_reply": "2021-04-30T14:37:31.514776Z"
    },
    "papermill": {
     "duration": 0.080414,
     "end_time": "2021-04-30T14:37:31.515490",
     "exception": false,
     "start_time": "2021-04-30T14:37:31.435076",
     "status": "completed"
    },
    "tags": []
   },
   "outputs": [
    {
     "data": {
      "application/javascript": [
       "parent.postMessage({\"jupyterEvent\": \"custom.exercise_interaction\", \"data\": {\"outcomeType\": 1, \"valueTowardsCompletion\": 1.0, \"interactionType\": 1, \"questionType\": 2, \"questionId\": \"3.1_ImputeCode\", \"learnToolsVersion\": \"0.3.4\", \"failureMessage\": \"\", \"exceptionClass\": \"\", \"trace\": \"\"}}, \"*\")"
      ],
      "text/plain": [
       "<IPython.core.display.Javascript object>"
      ]
     },
     "metadata": {},
     "output_type": "display_data"
    },
    {
     "data": {
      "text/markdown": [
       "<span style=\"color:#33cc33\">Correct</span>"
      ],
      "text/plain": [
       "Correct"
      ]
     },
     "metadata": {},
     "output_type": "display_data"
    }
   ],
   "source": [
    "from sklearn.impute import SimpleImputer\n",
    "\n",
    "# Fill in the lines below: imputation\n",
    "my_imputer = SimpleImputer() # Your code here fit_transform\n",
    "imputed_X_train = pd.DataFrame(my_imputer.fit_transform(X_train))\n",
    "imputed_X_valid = pd.DataFrame(my_imputer.transform(X_valid))\n",
    "\n",
    "# Fill in the lines below: imputation removed column names; put them back\n",
    "imputed_X_train.columns = X_train.columns\n",
    "imputed_X_valid.columns = X_valid.columns\n",
    "\n",
    "# Check your answers\n",
    "step_3.a.check()"
   ]
  },
  {
   "cell_type": "code",
   "execution_count": 16,
   "id": "dying-valve",
   "metadata": {
    "execution": {
     "iopub.execute_input": "2021-04-30T14:37:31.732022Z",
     "iopub.status.busy": "2021-04-30T14:37:31.731046Z",
     "iopub.status.idle": "2021-04-30T14:37:35.074369Z",
     "shell.execute_reply": "2021-04-30T14:37:35.075008Z"
    },
    "papermill": {
     "duration": 3.380934,
     "end_time": "2021-04-30T14:37:35.075218",
     "exception": false,
     "start_time": "2021-04-30T14:37:31.694284",
     "status": "completed"
    },
    "tags": []
   },
   "outputs": [
    {
     "name": "stdout",
     "output_type": "stream",
     "text": [
      "MAE (Imputation):\n",
      "17613.175753424657\n"
     ]
    }
   ],
   "source": [
    "print(\"MAE (Imputation):\")\n",
    "print(score_dataset(imputed_X_train, imputed_X_valid, y_train, y_valid))\n",
    "#100 0 = 18062\n",
    "#37 0=17743\n",
    "#200 0=17665\n",
    "#200 1=17620\n",
    "#250 0=17613"
   ]
  },
  {
   "cell_type": "markdown",
   "id": "clinical-italian",
   "metadata": {
    "papermill": {
     "duration": 0.037225,
     "end_time": "2021-04-30T14:37:35.391117",
     "exception": false,
     "start_time": "2021-04-30T14:37:35.353892",
     "status": "completed"
    },
    "tags": []
   },
   "source": [
    "# Step 4: Generate test predictions\n",
    "\n",
    "In this final step, you'll use any approach of your choosing to deal with missing values.  Once you've preprocessed the training and validation features, you'll train and evaluate a random forest model.  Then, you'll preprocess the test data before generating predictions that can be submitted to the competition!\n",
    "\n",
    "### Part A\n",
    "\n",
    "Use the next code cell to preprocess the training and validation data.  Set the preprocessed DataFrames to `final_X_train` and `final_X_valid`.  **You can use any approach of your choosing here!**  in order for this step to be marked as correct, you need only ensure:\n",
    "- the preprocessed DataFrames have the same number of columns,\n",
    "- the preprocessed DataFrames have no missing values, \n",
    "- `final_X_train` and `y_train` have the same number of rows, and\n",
    "- `final_X_valid` and `y_valid` have the same number of rows."
   ]
  },
  {
   "cell_type": "code",
   "execution_count": 19,
   "id": "disciplinary-solution",
   "metadata": {
    "execution": {
     "iopub.execute_input": "2021-04-30T14:37:35.485333Z",
     "iopub.status.busy": "2021-04-30T14:37:35.484234Z",
     "iopub.status.idle": "2021-04-30T14:37:35.490847Z",
     "shell.execute_reply": "2021-04-30T14:37:35.490184Z"
    },
    "papermill": {
     "duration": 0.062371,
     "end_time": "2021-04-30T14:37:35.491003",
     "exception": false,
     "start_time": "2021-04-30T14:37:35.428632",
     "status": "completed"
    },
    "tags": []
   },
   "outputs": [
    {
     "data": {
      "application/javascript": [
       "parent.postMessage({\"jupyterEvent\": \"custom.exercise_interaction\", \"data\": {\"outcomeType\": 1, \"valueTowardsCompletion\": 1.0, \"interactionType\": 1, \"questionType\": 2, \"questionId\": \"4.1_PredsCodeA\", \"learnToolsVersion\": \"0.3.4\", \"failureMessage\": \"\", \"exceptionClass\": \"\", \"trace\": \"\"}}, \"*\")"
      ],
      "text/plain": [
       "<IPython.core.display.Javascript object>"
      ]
     },
     "metadata": {},
     "output_type": "display_data"
    },
    {
     "data": {
      "text/markdown": [
       "<span style=\"color:#33cc33\">Correct</span>"
      ],
      "text/plain": [
       "Correct"
      ]
     },
     "metadata": {},
     "output_type": "display_data"
    }
   ],
   "source": [
    "# Preprocessed training and validation features\n",
    "final_X_train = imputed_X_train\n",
    "final_X_valid = imputed_X_valid\n",
    "\n",
    "# Check your answers\n",
    "step_4.a.check()"
   ]
  },
  {
   "cell_type": "markdown",
   "id": "ranging-pharmaceutical",
   "metadata": {
    "papermill": {
     "duration": 0.040876,
     "end_time": "2021-04-30T14:37:35.660088",
     "exception": false,
     "start_time": "2021-04-30T14:37:35.619212",
     "status": "completed"
    },
    "tags": []
   },
   "source": [
    "Run the next code cell to train and evaluate a random forest model.  (*Note that we don't use the `score_dataset()` function above, because we will soon use the trained model to generate test predictions!*)"
   ]
  },
  {
   "cell_type": "code",
   "execution_count": 21,
   "id": "bizarre-tribe",
   "metadata": {
    "execution": {
     "iopub.execute_input": "2021-04-30T14:37:35.750129Z",
     "iopub.status.busy": "2021-04-30T14:37:35.748961Z",
     "iopub.status.idle": "2021-04-30T14:37:39.103007Z",
     "shell.execute_reply": "2021-04-30T14:37:39.102409Z"
    },
    "papermill": {
     "duration": 3.402351,
     "end_time": "2021-04-30T14:37:39.103201",
     "exception": false,
     "start_time": "2021-04-30T14:37:35.700850",
     "status": "completed"
    },
    "tags": []
   },
   "outputs": [
    {
     "name": "stdout",
     "output_type": "stream",
     "text": [
      "MAE (Your approach):\n",
      "17613.175753424657\n"
     ]
    }
   ],
   "source": [
    "# Define and fit model\n",
    "model = RandomForestRegressor(n_estimators=250, random_state=0)\n",
    "model.fit(final_X_train, y_train)\n",
    "\n",
    "# Get validation predictions and MAE\n",
    "preds_valid = model.predict(final_X_valid)\n",
    "print(\"MAE (Your approach):\")\n",
    "print(mean_absolute_error(y_valid, preds_valid))"
   ]
  },
  {
   "cell_type": "code",
   "execution_count": 22,
   "id": "dynamic-joshua",
   "metadata": {
    "execution": {
     "iopub.execute_input": "2021-04-30T14:37:39.189501Z",
     "iopub.status.busy": "2021-04-30T14:37:39.188833Z",
     "iopub.status.idle": "2021-04-30T14:37:39.192789Z",
     "shell.execute_reply": "2021-04-30T14:37:39.193344Z"
    },
    "papermill": {
     "duration": 0.049639,
     "end_time": "2021-04-30T14:37:39.193540",
     "exception": false,
     "start_time": "2021-04-30T14:37:39.143901",
     "status": "completed"
    },
    "tags": []
   },
   "outputs": [
    {
     "name": "stdout",
     "output_type": "stream",
     "text": [
      "(1168, 36)\n"
     ]
    }
   ],
   "source": [
    "print(final_X_train.shape)"
   ]
  },
  {
   "cell_type": "markdown",
   "id": "speaking-mercy",
   "metadata": {
    "papermill": {
     "duration": 0.039265,
     "end_time": "2021-04-30T14:37:39.271988",
     "exception": false,
     "start_time": "2021-04-30T14:37:39.232723",
     "status": "completed"
    },
    "tags": []
   },
   "source": [
    "### Part B\n",
    "\n",
    "Use the next code cell to preprocess your test data.  Make sure that you use a method that agrees with how you preprocessed the training and validation data, and set the preprocessed test features to `final_X_test`.\n",
    "\n",
    "Then, use the preprocessed test features and the trained model to generate test predictions in `preds_test`.\n",
    "\n",
    "In order for this step to be marked correct, you need only ensure:\n",
    "- the preprocessed test DataFrame has no missing values, and\n",
    "- `final_X_test` has the same number of rows as `X_test`."
   ]
  },
  {
   "cell_type": "code",
   "execution_count": 23,
   "id": "amended-newman",
   "metadata": {
    "execution": {
     "iopub.execute_input": "2021-04-30T14:37:39.354364Z",
     "iopub.status.busy": "2021-04-30T14:37:39.353732Z",
     "iopub.status.idle": "2021-04-30T14:37:39.454743Z",
     "shell.execute_reply": "2021-04-30T14:37:39.454171Z"
    },
    "papermill": {
     "duration": 0.143569,
     "end_time": "2021-04-30T14:37:39.454898",
     "exception": false,
     "start_time": "2021-04-30T14:37:39.311329",
     "status": "completed"
    },
    "tags": []
   },
   "outputs": [
    {
     "data": {
      "application/javascript": [
       "parent.postMessage({\"jupyterEvent\": \"custom.exercise_interaction\", \"data\": {\"outcomeType\": 1, \"valueTowardsCompletion\": 1.0, \"interactionType\": 1, \"questionType\": 2, \"questionId\": \"4.2_PredsCodeB\", \"learnToolsVersion\": \"0.3.4\", \"failureMessage\": \"\", \"exceptionClass\": \"\", \"trace\": \"\"}}, \"*\")"
      ],
      "text/plain": [
       "<IPython.core.display.Javascript object>"
      ]
     },
     "metadata": {},
     "output_type": "display_data"
    },
    {
     "data": {
      "text/markdown": [
       "<span style=\"color:#33cc33\">Correct</span>"
      ],
      "text/plain": [
       "Correct"
      ]
     },
     "metadata": {},
     "output_type": "display_data"
    }
   ],
   "source": [
    "# Fill in the line below: preprocess test data\n",
    "final_X_test = pd.DataFrame(my_imputer.transform(X_test))\n",
    "#X_test_full is the file\n",
    "#X_test is the feature\n",
    "\n",
    "# Fill in the line below: get test predictions\n",
    "preds_test = model.predict(final_X_test)\n",
    "\n",
    "# Check your answers\n",
    "step_4.b.check()"
   ]
  },
  {
   "cell_type": "code",
   "execution_count": 25,
   "id": "ruled-authorization",
   "metadata": {
    "execution": {
     "iopub.execute_input": "2021-04-30T14:37:39.728763Z",
     "iopub.status.busy": "2021-04-30T14:37:39.728104Z",
     "iopub.status.idle": "2021-04-30T14:37:39.744928Z",
     "shell.execute_reply": "2021-04-30T14:37:39.744213Z"
    },
    "papermill": {
     "duration": 0.062477,
     "end_time": "2021-04-30T14:37:39.745078",
     "exception": false,
     "start_time": "2021-04-30T14:37:39.682601",
     "status": "completed"
    },
    "tags": []
   },
   "outputs": [],
   "source": [
    "# Save test predictions to file\n",
    "output = pd.DataFrame({'Id': X_test.index,\n",
    "                       'SalePrice': preds_test})\n",
    "output.to_csv('submission.csv', index=False)"
   ]
  },
  {
   "cell_type": "markdown",
   "id": "theoretical-charge",
   "metadata": {
    "papermill": {
     "duration": 0.042737,
     "end_time": "2021-04-30T14:37:39.914440",
     "exception": false,
     "start_time": "2021-04-30T14:37:39.871703",
     "status": "completed"
    },
    "tags": []
   },
   "source": [
    "---\n",
    "\n",
    "\n",
    "\n",
    "\n",
    "*Have questions or comments? Visit the [Learn Discussion forum](https://www.kaggle.com/learn-forum/161289) to chat with other Learners.*"
   ]
  }
 ],
 "metadata": {
  "kernelspec": {
   "display_name": "Python 3",
   "language": "python",
   "name": "python3"
  },
  "language_info": {
   "codemirror_mode": {
    "name": "ipython",
    "version": 3
   },
   "file_extension": ".py",
   "mimetype": "text/x-python",
   "name": "python",
   "nbconvert_exporter": "python",
   "pygments_lexer": "ipython3",
   "version": "3.7.9"
  },
  "papermill": {
   "default_parameters": {},
   "duration": 23.495544,
   "end_time": "2021-04-30T14:37:40.668714",
   "environment_variables": {},
   "exception": null,
   "input_path": "__notebook__.ipynb",
   "output_path": "__notebook__.ipynb",
   "parameters": {},
   "start_time": "2021-04-30T14:37:17.173170",
   "version": "2.3.2"
  }
 },
 "nbformat": 4,
 "nbformat_minor": 5
}