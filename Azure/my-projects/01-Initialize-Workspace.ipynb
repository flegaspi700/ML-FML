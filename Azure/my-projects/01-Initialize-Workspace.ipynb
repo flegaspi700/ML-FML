{
 "cells": [
  {
   "cell_type": "code",
   "execution_count": null,
   "metadata": {},
   "outputs": [],
   "source": [
    "#https://docs.microsoft.com/en-us/python/api/azureml-core/azureml.core.workspace.workspace?view=azure-ml-py\n",
    "#https://docs.microsoft.com/en-us/python/api/overview/azure/ml/?view=azure-ml-py\n",
    "#https://docs.microsoft.com/en-us/azure/machine-learning/how-to-manage-workspace?tabs=python#create-a-workspace\n",
    "\n",
    "import azureml.core\n",
    "\n",
    "print(\"Ready to use Azure ML\", azureml.core.VERSION)"
   ]
  },
  {
   "cell_type": "code",
   "execution_count": null,
   "metadata": {},
   "outputs": [],
   "source": [
    "from azureml.core import Workspace\n",
    "from azureml.core.authentication import InteractiveLoginAuthentication\n",
    "from azureml.core.authentication import AzureCliAuthentication\n",
    "\n",
    "Workspace.list('27549634-3f0f-4850-8683-2ee39f587023')"
   ]
  },
  {
   "cell_type": "code",
   "execution_count": null,
   "metadata": {},
   "outputs": [],
   "source": [
    "#create workspace\n",
    "from azureml.core import Workspace\n",
    "from azureml.core.authentication import InteractiveLoginAuthentication\n",
    "from azureml.core.authentication import AzureCliAuthentication\n",
    "\n",
    "\n",
    "#cli_auth = AzureCliAuthentication()\n",
    "interactive_auth = InteractiveLoginAuthentication(tenant_id=\"b089a557-1e06-49de-aec7-ed20316b726a\", force=True)\n",
    "\n",
    "#ws = Workspace.create(name='pedok-ml-ws',\n",
    "#                        subscription_id='27549634-3f0f-4850-8683-2ee39f587023',\n",
    "#                        resource_group='pedok-ml-rg',\n",
    "#                        create_resource_group=True,\n",
    "#                        location='eastus',\n",
    "#                        auth=interactive_auth)\n",
    "\n",
    "#ws.write_config(path=\"./file-path\", file_name=\"ws_config.json\")"
   ]
  },
  {
   "cell_type": "code",
   "execution_count": null,
   "metadata": {},
   "outputs": [],
   "source": []
  }
 ],
 "metadata": {
  "kernelspec": {
   "display_name": "Python 3.8 - AzureML",
   "language": "python",
   "name": "python38-azureml"
  },
  "language_info": {
   "name": "python",
   "version": ""
  },
  "orig_nbformat": 2
 },
 "nbformat": 4,
 "nbformat_minor": 2
}